{
 "cells": [
  {
   "cell_type": "code",
   "execution_count": 1,
   "metadata": {},
   "outputs": [
    {
     "name": "stderr",
     "output_type": "stream",
     "text": [
      "/home/aj3051/anaconda3/envs/backpack/lib/python3.11/site-packages/tqdm/auto.py:21: TqdmWarning: IProgress not found. Please update jupyter and ipywidgets. See https://ipywidgets.readthedocs.io/en/stable/user_install.html\n",
      "  from .autonotebook import tqdm as notebook_tqdm\n"
     ]
    }
   ],
   "source": [
    "os.environ[\"CUDA_VISIBLE_DEVICES\"] = \"0\"\n",
    "\n",
    "import os\n",
    "import pickle\n",
    "import itertools\n",
    "import time\n",
    "\n",
    "import wandb\n",
    "from tqdm import tqdm\n",
    "import numpy as np\n",
    "import matplotlib.pyplot as plt\n",
    "import torch \n",
    "import torch.nn as nn\n",
    "from torch.utils.data import Dataset, RandomSampler, random_split\n",
    "\n",
    "from transformers import AutoTokenizer, AutoModelForCausalLM, Trainer, TrainingArguments, DataCollatorWithPadding"
   ]
  },
  {
   "cell_type": "code",
   "execution_count": 2,
   "metadata": {},
   "outputs": [],
   "source": [
    "BASE_MODEL = \"deepseek-ai/deepseek-coder-1.3b-base\"\n",
    "STORAGE_DIR = \"/proj/rcs-hdd/aj3051/symmetry\""
   ]
  },
  {
   "cell_type": "code",
   "execution_count": 3,
   "metadata": {},
   "outputs": [],
   "source": [
    "device = torch.device(\"cuda\" if torch.cuda.is_available() else \"cpu\")"
   ]
  },
  {
   "cell_type": "code",
   "execution_count": 4,
   "metadata": {},
   "outputs": [],
   "source": [
    "# with open(os.path.join(STORAGE_DIR, 'data_four_permutations.pickle'), 'rb') as f:\n",
    "#     dataset_raw = pickle.load(f)"
   ]
  },
  {
   "cell_type": "code",
   "execution_count": 5,
   "metadata": {},
   "outputs": [],
   "source": [
    "# def tokenize_dataset_individual(dataset, max_length=1024, tokenizer=\"deepseek-ai/deepseek-coder-1.3b-base\"):\n",
    "#     tokenizer = AutoTokenizer.from_pretrained(tokenizer, cache_dir=\"/proj/rcs-hdd/aj3051/hf_transformers\")\n",
    "#     res = []\n",
    "#     for code, line_permutation_orders, label in tqdm(dataset):\n",
    "#         tokenized_loc = [ \n",
    "#             tokenizer(line_text, return_tensors=\"pt\", add_special_tokens=(line_num==0))['input_ids'][0]\n",
    "#             for line_num, line_text in enumerate(code)\n",
    "#         ]\n",
    "#         input = torch.cat(tokenized_loc) # unpermuted code input\n",
    "#         if len(input) > max_length:\n",
    "#             continue \n",
    "\n",
    "#         label = tokenizer(label, return_tensors=\"pt\", add_special_tokens=False)['input_ids'][0][0].unsqueeze(dim=0)\n",
    "#         sample = (input.to(dtype=torch.long), label)\n",
    "#         res.append(sample)\n",
    "\n",
    "#     return res\n",
    "\n",
    "# dataset = tokenize_dataset_individual(dataset=dataset_raw, max_length=1024, tokenizer=\"deepseek-ai/deepseek-coder-1.3b-base\")\n",
    "\n",
    "# with open(os.path.join(STORAGE_DIR, 'data_individual.pkl'), 'wb') as f:\n",
    "#     pickle.dump(dataset, f)"
   ]
  },
  {
   "cell_type": "code",
   "execution_count": 4,
   "metadata": {},
   "outputs": [],
   "source": [
    "with open(os.path.join(STORAGE_DIR, 'data_individual.pkl'), 'rb') as f:\n",
    "    code_individual_dataset = pickle.load(f)"
   ]
  },
  {
   "cell_type": "code",
   "execution_count": 5,
   "metadata": {},
   "outputs": [],
   "source": [
    "class CodeDataset(Dataset):\n",
    "\n",
    "    def __init__(self, dataset):\n",
    "        self.dataset = dataset\n",
    "\n",
    "    def __len__(self):\n",
    "        return len(self.dataset)\n",
    "\n",
    "    def __getitem__(self, idx):\n",
    "        input_ids, label = self.dataset[idx] \n",
    "        return {\n",
    "            'input_ids': input_ids\n",
    "            'labels': torch.tensor([label])\n",
    "        }\n"
   ]
  },
  {
   "cell_type": "code",
   "execution_count": 6,
   "metadata": {},
   "outputs": [],
   "source": [
    "dataset = CodeDataset(dataset=code_individual_dataset)\n",
    "\n",
    "sampler = RandomSampler(dataset)\n",
    "shuffled_indices = list(sampler)\n",
    "shuffled_dataset = torch.utils.data.Subset(dataset, shuffled_indices)\n",
    "train_length = int(0.8 * len(shuffled_dataset))\n",
    "validation_length = int(0.1 * len(shuffled_dataset))\n",
    "test_length = len(shuffled_dataset) - train_length - validation_length\n",
    "\n",
    "train_set, validation_set, test_set = random_split(\n",
    "    shuffled_dataset, [train_length, validation_length, test_length]\n",
    ")\n",
    "\n",
    "# train_loader = torch.utils.data.DataLoader(train_set, batch_size=None, shuffle=False)\n",
    "# validation_loader = torch.utils.data.DataLoader(validation_set, batch_size=None, shuffle=False)\n",
    "# test_loader = torch.utils.data.DataLoader(test_set, batch_size=None, shuffle=False)"
   ]
  },
  {
   "cell_type": "code",
   "execution_count": 7,
   "metadata": {},
   "outputs": [],
   "source": [
    "model = AutoModelForCausalLM.from_pretrained(\n",
    "        BASE_MODEL,\n",
    "        cache_dir=\"/proj/rcs-hdd/aj3051/hf_transformers\",\n",
    ").to(device)"
   ]
  },
  {
   "cell_type": "code",
   "execution_count": 8,
   "metadata": {},
   "outputs": [
    {
     "name": "stderr",
     "output_type": "stream",
     "text": [
      "Special tokens have been added in the vocabulary, make sure the associated word embeddings are fine-tuned or trained.\n"
     ]
    }
   ],
   "source": [
    "tokenizer = AutoTokenizer.from_pretrained(BASE_MODEL, cache_dir=\"/proj/rcs-hdd/aj3051/hf_transformers\")\n",
    "data_collator = DataCollatorWithPadding(tokenizer=tokenizer)"
   ]
  },
  {
   "cell_type": "code",
   "execution_count": 9,
   "metadata": {},
   "outputs": [],
   "source": [
    "training_args = TrainingArguments(\n",
    "    output_dir='./results',         \n",
    "    num_train_epochs=3,             \n",
    "    per_device_train_batch_size=1,  \n",
    "    per_device_eval_batch_size=1, \n",
    "    report_to=None, \n",
    ")"
   ]
  },
  {
   "cell_type": "code",
   "execution_count": 10,
   "metadata": {},
   "outputs": [],
   "source": [
    "first_batch = None"
   ]
  },
  {
   "cell_type": "code",
   "execution_count": 11,
   "metadata": {},
   "outputs": [],
   "source": [
    "class CustomTrainer(Trainer):\n",
    "    def training_step(self, model, inputs):\n",
    "        print(\"Input IDs shape:\", inputs[\"input_ids\"].shape)\n",
    "        print(\"Labels shape:\", inputs[\"labels\"].shape)\n",
    "        global first_batch\n",
    "        first_batch = inputs[\"input_ids\"]\n",
    "        # ... rest of the code ...\n",
    "        return super().training_step(model, inputs)        "
   ]
  },
  {
   "cell_type": "code",
   "execution_count": 13,
   "metadata": {},
   "outputs": [
    {
     "name": "stderr",
     "output_type": "stream",
     "text": [
      "Detected kernel version 5.4.0, which is below the recommended minimum of 5.5.0; this can cause the process to hang. It is recommended to upgrade the kernel to the minimum version or higher.\n"
     ]
    }
   ],
   "source": [
    "trainer = CustomTrainer(\n",
    "    model=model,\n",
    "    args=training_args,\n",
    "    train_dataset=train_set,\n",
    "    eval_dataset=validation_set,\n",
    "    data_collator=data_collator,\n",
    ")"
   ]
  },
  {
   "cell_type": "code",
   "execution_count": 14,
   "metadata": {},
   "outputs": [
    {
     "name": "stderr",
     "output_type": "stream",
     "text": [
      "Failed to detect the name of this notebook, you can set it manually with the WANDB_NOTEBOOK_NAME environment variable to enable code saving.\n",
      "\u001b[34m\u001b[1mwandb\u001b[0m: Currently logged in as: \u001b[33maj3051\u001b[0m. Use \u001b[1m`wandb login --relogin`\u001b[0m to force relogin\n"
     ]
    },
    {
     "data": {
      "text/html": [
       "wandb version 0.17.0 is available!  To upgrade, please run:\n",
       " $ pip install wandb --upgrade"
      ],
      "text/plain": [
       "<IPython.core.display.HTML object>"
      ]
     },
     "metadata": {},
     "output_type": "display_data"
    },
    {
     "data": {
      "text/html": [
       "Tracking run with wandb version 0.16.6"
      ],
      "text/plain": [
       "<IPython.core.display.HTML object>"
      ]
     },
     "metadata": {},
     "output_type": "display_data"
    },
    {
     "data": {
      "text/html": [
       "Run data is saved locally in <code>/local/rcs/aj3051/equitune/wandb/run-20240509_064553-3zmx05q0</code>"
      ],
      "text/plain": [
       "<IPython.core.display.HTML object>"
      ]
     },
     "metadata": {},
     "output_type": "display_data"
    },
    {
     "data": {
      "text/html": [
       "Syncing run <strong><a href='https://wandb.ai/aj3051/huggingface/runs/3zmx05q0' target=\"_blank\">helpful-tree-4</a></strong> to <a href='https://wandb.ai/aj3051/huggingface' target=\"_blank\">Weights & Biases</a> (<a href='https://wandb.me/run' target=\"_blank\">docs</a>)<br/>"
      ],
      "text/plain": [
       "<IPython.core.display.HTML object>"
      ]
     },
     "metadata": {},
     "output_type": "display_data"
    },
    {
     "data": {
      "text/html": [
       " View project at <a href='https://wandb.ai/aj3051/huggingface' target=\"_blank\">https://wandb.ai/aj3051/huggingface</a>"
      ],
      "text/plain": [
       "<IPython.core.display.HTML object>"
      ]
     },
     "metadata": {},
     "output_type": "display_data"
    },
    {
     "data": {
      "text/html": [
       " View run at <a href='https://wandb.ai/aj3051/huggingface/runs/3zmx05q0' target=\"_blank\">https://wandb.ai/aj3051/huggingface/runs/3zmx05q0</a>"
      ],
      "text/plain": [
       "<IPython.core.display.HTML object>"
      ]
     },
     "metadata": {},
     "output_type": "display_data"
    },
    {
     "name": "stdout",
     "output_type": "stream",
     "text": [
      "Input IDs shape: torch.Size([1, 145])\n",
      "Labels shape: torch.Size([1, 1])\n"
     ]
    },
    {
     "ename": "ValueError",
     "evalue": "Expected input batch_size (144) to match target batch_size (0).",
     "output_type": "error",
     "traceback": [
      "\u001b[0;31m---------------------------------------------------------------------------\u001b[0m",
      "\u001b[0;31mValueError\u001b[0m                                Traceback (most recent call last)",
      "Cell \u001b[0;32mIn[14], line 1\u001b[0m\n\u001b[0;32m----> 1\u001b[0m trainer\u001b[38;5;241m.\u001b[39mtrain()\n",
      "File \u001b[0;32m~/anaconda3/envs/backpack/lib/python3.11/site-packages/transformers/trainer.py:1539\u001b[0m, in \u001b[0;36mTrainer.train\u001b[0;34m(self, resume_from_checkpoint, trial, ignore_keys_for_eval, **kwargs)\u001b[0m\n\u001b[1;32m   1537\u001b[0m         hf_hub_utils\u001b[39m.\u001b[39menable_progress_bars()\n\u001b[1;32m   1538\u001b[0m \u001b[39melse\u001b[39;00m:\n\u001b[0;32m-> 1539\u001b[0m     \u001b[39mreturn\u001b[39;00m inner_training_loop(\n\u001b[1;32m   1540\u001b[0m         args\u001b[39m=\u001b[39margs,\n\u001b[1;32m   1541\u001b[0m         resume_from_checkpoint\u001b[39m=\u001b[39mresume_from_checkpoint,\n\u001b[1;32m   1542\u001b[0m         trial\u001b[39m=\u001b[39mtrial,\n\u001b[1;32m   1543\u001b[0m         ignore_keys_for_eval\u001b[39m=\u001b[39mignore_keys_for_eval,\n\u001b[1;32m   1544\u001b[0m     )\n",
      "File \u001b[0;32m~/anaconda3/envs/backpack/lib/python3.11/site-packages/transformers/trainer.py:1869\u001b[0m, in \u001b[0;36mTrainer._inner_training_loop\u001b[0;34m(self, batch_size, args, resume_from_checkpoint, trial, ignore_keys_for_eval)\u001b[0m\n\u001b[1;32m   1866\u001b[0m     \u001b[39mself\u001b[39m\u001b[39m.\u001b[39mcontrol \u001b[39m=\u001b[39m \u001b[39mself\u001b[39m\u001b[39m.\u001b[39mcallback_handler\u001b[39m.\u001b[39mon_step_begin(args, \u001b[39mself\u001b[39m\u001b[39m.\u001b[39mstate, \u001b[39mself\u001b[39m\u001b[39m.\u001b[39mcontrol)\n\u001b[1;32m   1868\u001b[0m \u001b[39mwith\u001b[39;00m \u001b[39mself\u001b[39m\u001b[39m.\u001b[39maccelerator\u001b[39m.\u001b[39maccumulate(model):\n\u001b[0;32m-> 1869\u001b[0m     tr_loss_step \u001b[39m=\u001b[39m \u001b[39mself\u001b[39m\u001b[39m.\u001b[39mtraining_step(model, inputs)\n\u001b[1;32m   1871\u001b[0m \u001b[39mif\u001b[39;00m (\n\u001b[1;32m   1872\u001b[0m     args\u001b[39m.\u001b[39mlogging_nan_inf_filter\n\u001b[1;32m   1873\u001b[0m     \u001b[39mand\u001b[39;00m \u001b[39mnot\u001b[39;00m is_torch_tpu_available()\n\u001b[1;32m   1874\u001b[0m     \u001b[39mand\u001b[39;00m (torch\u001b[39m.\u001b[39misnan(tr_loss_step) \u001b[39mor\u001b[39;00m torch\u001b[39m.\u001b[39misinf(tr_loss_step))\n\u001b[1;32m   1875\u001b[0m ):\n\u001b[1;32m   1876\u001b[0m     \u001b[39m# if loss is nan or inf simply add the average of previous logged losses\u001b[39;00m\n\u001b[1;32m   1877\u001b[0m     tr_loss \u001b[39m+\u001b[39m\u001b[39m=\u001b[39m tr_loss \u001b[39m/\u001b[39m (\u001b[39m1\u001b[39m \u001b[39m+\u001b[39m \u001b[39mself\u001b[39m\u001b[39m.\u001b[39mstate\u001b[39m.\u001b[39mglobal_step \u001b[39m-\u001b[39m \u001b[39mself\u001b[39m\u001b[39m.\u001b[39m_globalstep_last_logged)\n",
      "Cell \u001b[0;32mIn[11], line 8\u001b[0m, in \u001b[0;36mCustomTrainer.training_step\u001b[0;34m(self, model, inputs)\u001b[0m\n\u001b[1;32m      6\u001b[0m first_batch \u001b[38;5;241m=\u001b[39m inputs[\u001b[38;5;124m\"\u001b[39m\u001b[38;5;124minput_ids\u001b[39m\u001b[38;5;124m\"\u001b[39m]\n\u001b[1;32m      7\u001b[0m \u001b[38;5;66;03m# ... rest of the code ...\u001b[39;00m\n\u001b[0;32m----> 8\u001b[0m \u001b[38;5;28;01mreturn\u001b[39;00m \u001b[38;5;28msuper\u001b[39m()\u001b[38;5;241m.\u001b[39mtraining_step(model, inputs)\n",
      "File \u001b[0;32m~/anaconda3/envs/backpack/lib/python3.11/site-packages/transformers/trainer.py:2772\u001b[0m, in \u001b[0;36mTrainer.training_step\u001b[0;34m(self, model, inputs)\u001b[0m\n\u001b[1;32m   2769\u001b[0m     \u001b[39mreturn\u001b[39;00m loss_mb\u001b[39m.\u001b[39mreduce_mean()\u001b[39m.\u001b[39mdetach()\u001b[39m.\u001b[39mto(\u001b[39mself\u001b[39m\u001b[39m.\u001b[39margs\u001b[39m.\u001b[39mdevice)\n\u001b[1;32m   2771\u001b[0m \u001b[39mwith\u001b[39;00m \u001b[39mself\u001b[39m\u001b[39m.\u001b[39mcompute_loss_context_manager():\n\u001b[0;32m-> 2772\u001b[0m     loss \u001b[39m=\u001b[39m \u001b[39mself\u001b[39m\u001b[39m.\u001b[39mcompute_loss(model, inputs)\n\u001b[1;32m   2774\u001b[0m \u001b[39mif\u001b[39;00m \u001b[39mself\u001b[39m\u001b[39m.\u001b[39margs\u001b[39m.\u001b[39mn_gpu \u001b[39m>\u001b[39m \u001b[39m1\u001b[39m:\n\u001b[1;32m   2775\u001b[0m     loss \u001b[39m=\u001b[39m loss\u001b[39m.\u001b[39mmean()  \u001b[39m# mean() to average on multi-gpu parallel training\u001b[39;00m\n",
      "File \u001b[0;32m~/anaconda3/envs/backpack/lib/python3.11/site-packages/transformers/trainer.py:2795\u001b[0m, in \u001b[0;36mTrainer.compute_loss\u001b[0;34m(self, model, inputs, return_outputs)\u001b[0m\n\u001b[1;32m   2793\u001b[0m \u001b[39melse\u001b[39;00m:\n\u001b[1;32m   2794\u001b[0m     labels \u001b[39m=\u001b[39m \u001b[39mNone\u001b[39;00m\n\u001b[0;32m-> 2795\u001b[0m outputs \u001b[39m=\u001b[39m model(\u001b[39m*\u001b[39m\u001b[39m*\u001b[39minputs)\n\u001b[1;32m   2796\u001b[0m \u001b[39m# Save past state if it exists\u001b[39;00m\n\u001b[1;32m   2797\u001b[0m \u001b[39m# TODO: this needs to be fixed and made cleaner later.\u001b[39;00m\n\u001b[1;32m   2798\u001b[0m \u001b[39mif\u001b[39;00m \u001b[39mself\u001b[39m\u001b[39m.\u001b[39margs\u001b[39m.\u001b[39mpast_index \u001b[39m>\u001b[39m\u001b[39m=\u001b[39m \u001b[39m0\u001b[39m:\n",
      "File \u001b[0;32m~/anaconda3/envs/backpack/lib/python3.11/site-packages/torch/nn/modules/module.py:1511\u001b[0m, in \u001b[0;36mModule._wrapped_call_impl\u001b[0;34m(self, *args, **kwargs)\u001b[0m\n\u001b[1;32m   1509\u001b[0m     \u001b[39mreturn\u001b[39;00m \u001b[39mself\u001b[39m\u001b[39m.\u001b[39m_compiled_call_impl(\u001b[39m*\u001b[39margs, \u001b[39m*\u001b[39m\u001b[39m*\u001b[39mkwargs)  \u001b[39m# type: ignore[misc]\u001b[39;00m\n\u001b[1;32m   1510\u001b[0m \u001b[39melse\u001b[39;00m:\n\u001b[0;32m-> 1511\u001b[0m     \u001b[39mreturn\u001b[39;00m \u001b[39mself\u001b[39m\u001b[39m.\u001b[39m_call_impl(\u001b[39m*\u001b[39margs, \u001b[39m*\u001b[39m\u001b[39m*\u001b[39mkwargs)\n",
      "File \u001b[0;32m~/anaconda3/envs/backpack/lib/python3.11/site-packages/torch/nn/modules/module.py:1520\u001b[0m, in \u001b[0;36mModule._call_impl\u001b[0;34m(self, *args, **kwargs)\u001b[0m\n\u001b[1;32m   1515\u001b[0m \u001b[39m# If we don't have any hooks, we want to skip the rest of the logic in\u001b[39;00m\n\u001b[1;32m   1516\u001b[0m \u001b[39m# this function, and just call forward.\u001b[39;00m\n\u001b[1;32m   1517\u001b[0m \u001b[39mif\u001b[39;00m \u001b[39mnot\u001b[39;00m (\u001b[39mself\u001b[39m\u001b[39m.\u001b[39m_backward_hooks \u001b[39mor\u001b[39;00m \u001b[39mself\u001b[39m\u001b[39m.\u001b[39m_backward_pre_hooks \u001b[39mor\u001b[39;00m \u001b[39mself\u001b[39m\u001b[39m.\u001b[39m_forward_hooks \u001b[39mor\u001b[39;00m \u001b[39mself\u001b[39m\u001b[39m.\u001b[39m_forward_pre_hooks\n\u001b[1;32m   1518\u001b[0m         \u001b[39mor\u001b[39;00m _global_backward_pre_hooks \u001b[39mor\u001b[39;00m _global_backward_hooks\n\u001b[1;32m   1519\u001b[0m         \u001b[39mor\u001b[39;00m _global_forward_hooks \u001b[39mor\u001b[39;00m _global_forward_pre_hooks):\n\u001b[0;32m-> 1520\u001b[0m     \u001b[39mreturn\u001b[39;00m forward_call(\u001b[39m*\u001b[39margs, \u001b[39m*\u001b[39m\u001b[39m*\u001b[39mkwargs)\n\u001b[1;32m   1522\u001b[0m \u001b[39mtry\u001b[39;00m:\n\u001b[1;32m   1523\u001b[0m     result \u001b[39m=\u001b[39m \u001b[39mNone\u001b[39;00m\n",
      "File \u001b[0;32m~/anaconda3/envs/backpack/lib/python3.11/site-packages/transformers/models/llama/modeling_llama.py:1215\u001b[0m, in \u001b[0;36mLlamaForCausalLM.forward\u001b[0;34m(self, input_ids, attention_mask, position_ids, past_key_values, inputs_embeds, labels, use_cache, output_attentions, output_hidden_states, return_dict)\u001b[0m\n\u001b[1;32m   1213\u001b[0m     \u001b[39m# Enable model parallelism\u001b[39;00m\n\u001b[1;32m   1214\u001b[0m     shift_labels \u001b[39m=\u001b[39m shift_labels\u001b[39m.\u001b[39mto(shift_logits\u001b[39m.\u001b[39mdevice)\n\u001b[0;32m-> 1215\u001b[0m     loss \u001b[39m=\u001b[39m loss_fct(shift_logits, shift_labels)\n\u001b[1;32m   1217\u001b[0m \u001b[39mif\u001b[39;00m \u001b[39mnot\u001b[39;00m return_dict:\n\u001b[1;32m   1218\u001b[0m     output \u001b[39m=\u001b[39m (logits,) \u001b[39m+\u001b[39m outputs[\u001b[39m1\u001b[39m:]\n",
      "File \u001b[0;32m~/anaconda3/envs/backpack/lib/python3.11/site-packages/torch/nn/modules/module.py:1511\u001b[0m, in \u001b[0;36mModule._wrapped_call_impl\u001b[0;34m(self, *args, **kwargs)\u001b[0m\n\u001b[1;32m   1509\u001b[0m     \u001b[39mreturn\u001b[39;00m \u001b[39mself\u001b[39m\u001b[39m.\u001b[39m_compiled_call_impl(\u001b[39m*\u001b[39margs, \u001b[39m*\u001b[39m\u001b[39m*\u001b[39mkwargs)  \u001b[39m# type: ignore[misc]\u001b[39;00m\n\u001b[1;32m   1510\u001b[0m \u001b[39melse\u001b[39;00m:\n\u001b[0;32m-> 1511\u001b[0m     \u001b[39mreturn\u001b[39;00m \u001b[39mself\u001b[39m\u001b[39m.\u001b[39m_call_impl(\u001b[39m*\u001b[39margs, \u001b[39m*\u001b[39m\u001b[39m*\u001b[39mkwargs)\n",
      "File \u001b[0;32m~/anaconda3/envs/backpack/lib/python3.11/site-packages/torch/nn/modules/module.py:1520\u001b[0m, in \u001b[0;36mModule._call_impl\u001b[0;34m(self, *args, **kwargs)\u001b[0m\n\u001b[1;32m   1515\u001b[0m \u001b[39m# If we don't have any hooks, we want to skip the rest of the logic in\u001b[39;00m\n\u001b[1;32m   1516\u001b[0m \u001b[39m# this function, and just call forward.\u001b[39;00m\n\u001b[1;32m   1517\u001b[0m \u001b[39mif\u001b[39;00m \u001b[39mnot\u001b[39;00m (\u001b[39mself\u001b[39m\u001b[39m.\u001b[39m_backward_hooks \u001b[39mor\u001b[39;00m \u001b[39mself\u001b[39m\u001b[39m.\u001b[39m_backward_pre_hooks \u001b[39mor\u001b[39;00m \u001b[39mself\u001b[39m\u001b[39m.\u001b[39m_forward_hooks \u001b[39mor\u001b[39;00m \u001b[39mself\u001b[39m\u001b[39m.\u001b[39m_forward_pre_hooks\n\u001b[1;32m   1518\u001b[0m         \u001b[39mor\u001b[39;00m _global_backward_pre_hooks \u001b[39mor\u001b[39;00m _global_backward_hooks\n\u001b[1;32m   1519\u001b[0m         \u001b[39mor\u001b[39;00m _global_forward_hooks \u001b[39mor\u001b[39;00m _global_forward_pre_hooks):\n\u001b[0;32m-> 1520\u001b[0m     \u001b[39mreturn\u001b[39;00m forward_call(\u001b[39m*\u001b[39margs, \u001b[39m*\u001b[39m\u001b[39m*\u001b[39mkwargs)\n\u001b[1;32m   1522\u001b[0m \u001b[39mtry\u001b[39;00m:\n\u001b[1;32m   1523\u001b[0m     result \u001b[39m=\u001b[39m \u001b[39mNone\u001b[39;00m\n",
      "File \u001b[0;32m~/anaconda3/envs/backpack/lib/python3.11/site-packages/torch/nn/modules/loss.py:1179\u001b[0m, in \u001b[0;36mCrossEntropyLoss.forward\u001b[0;34m(self, input, target)\u001b[0m\n\u001b[1;32m   1178\u001b[0m \u001b[39mdef\u001b[39;00m \u001b[39mforward\u001b[39m(\u001b[39mself\u001b[39m, \u001b[39minput\u001b[39m: Tensor, target: Tensor) \u001b[39m-\u001b[39m\u001b[39m>\u001b[39m Tensor:\n\u001b[0;32m-> 1179\u001b[0m     \u001b[39mreturn\u001b[39;00m F\u001b[39m.\u001b[39mcross_entropy(\u001b[39minput\u001b[39m, target, weight\u001b[39m=\u001b[39m\u001b[39mself\u001b[39m\u001b[39m.\u001b[39mweight,\n\u001b[1;32m   1180\u001b[0m                            ignore_index\u001b[39m=\u001b[39m\u001b[39mself\u001b[39m\u001b[39m.\u001b[39mignore_index, reduction\u001b[39m=\u001b[39m\u001b[39mself\u001b[39m\u001b[39m.\u001b[39mreduction,\n\u001b[1;32m   1181\u001b[0m                            label_smoothing\u001b[39m=\u001b[39m\u001b[39mself\u001b[39m\u001b[39m.\u001b[39mlabel_smoothing)\n",
      "File \u001b[0;32m~/anaconda3/envs/backpack/lib/python3.11/site-packages/torch/nn/functional.py:3059\u001b[0m, in \u001b[0;36mcross_entropy\u001b[0;34m(input, target, weight, size_average, ignore_index, reduce, reduction, label_smoothing)\u001b[0m\n\u001b[1;32m   3057\u001b[0m \u001b[39mif\u001b[39;00m size_average \u001b[39mis\u001b[39;00m \u001b[39mnot\u001b[39;00m \u001b[39mNone\u001b[39;00m \u001b[39mor\u001b[39;00m reduce \u001b[39mis\u001b[39;00m \u001b[39mnot\u001b[39;00m \u001b[39mNone\u001b[39;00m:\n\u001b[1;32m   3058\u001b[0m     reduction \u001b[39m=\u001b[39m _Reduction\u001b[39m.\u001b[39mlegacy_get_string(size_average, reduce)\n\u001b[0;32m-> 3059\u001b[0m \u001b[39mreturn\u001b[39;00m torch\u001b[39m.\u001b[39m_C\u001b[39m.\u001b[39m_nn\u001b[39m.\u001b[39mcross_entropy_loss(\u001b[39minput\u001b[39m, target, weight, _Reduction\u001b[39m.\u001b[39mget_enum(reduction), ignore_index, label_smoothing)\n",
      "\u001b[0;31mValueError\u001b[0m: Expected input batch_size (144) to match target batch_size (0)."
     ]
    }
   ],
   "source": [
    "trainer.train()"
   ]
  },
  {
   "cell_type": "code",
   "execution_count": 68,
   "metadata": {},
   "outputs": [
    {
     "data": {
      "text/plain": [
       "tensor([32014, 32014, 32014, 32014, 32014, 32014, 32014, 32014, 32014, 32014,\n",
       "        32014, 32014, 32014, 32014, 32014, 32014, 32014, 32014, 32014, 32014,\n",
       "        32014, 32014, 32014, 32014, 32014, 32014, 32014, 32014, 32014, 32014,\n",
       "        32014, 32014, 32014, 32014, 32014, 32014, 32014, 32014, 32014, 32014,\n",
       "        32014, 32014, 32014, 32014, 32014, 32014, 32014, 32014, 32014, 32014,\n",
       "        32014, 32014, 32014, 32014, 32014, 32014, 32014, 32014, 32014, 32014,\n",
       "        32014, 32014, 32014, 32014, 32014, 32014, 32014, 32014, 32014, 32014,\n",
       "        32014, 32014, 32014, 32014, 32014, 32014, 32014, 32014, 32014, 32014,\n",
       "        32014, 32014, 32014, 32014, 32014, 32014, 32014, 32014, 32014, 32014,\n",
       "        32014, 32014, 32014, 32014, 32014, 32014, 32014, 32014, 32014, 32014,\n",
       "        32014, 32014, 32014, 32014, 32014, 32014, 32014, 32014, 32014, 32014,\n",
       "        32014, 32014, 32014, 32013, 13198,  7050, 15545,  8440,   821,  6337,\n",
       "          334,  1232,  1753, 15545,  8440,  9828,  2039,  1232,  2582,  9828,\n",
       "         2039,  1232,  6925,  9828,  2039,  7248,  5455,  2039,  1097,  5503,\n",
       "         2039, 14647,  3550,  1366,  1058,  1268,  1013,   413,    43,  7050,\n",
       "        15545,  8440,  1938,  1826,  3550,  1366,  1058,  1268,  2189,  8474,\n",
       "         2357, 10564,  7050, 15545,  8440, 12982,   507,   207,   185, 13198,\n",
       "         7050, 15545,  8440,   263,    75,  7050, 15545,  8440,   405,  1273,\n",
       "         3550, 29512,  8853,   334,  1753, 15545,  8440,  9828,  2189,  6203,\n",
       "          207,   185, 12566,  6670,   405,  2352,  6203,   207,   185, 10696,\n",
       "          507,   207,   185, 10321,   405,  1714, 26556,   334,  2189,  6203,\n",
       "          207,   185, 13198,  7050, 15545,  8440,   821,  6337,  3857,   405,\n",
       "          756,   413,    43,  7050, 15545,  8440,  4076,   449,   821,   207,\n",
       "           18,  6337,  6203,   207,   185,  2482,   821,   207,    15,  6337,\n",
       "          405,   748,  3550,   452,  1070,    37,    62,    32,    62,    50,\n",
       "           62, 29924,  2270,  7926,   334,  6670,  2039,   263,    75,  7050,\n",
       "        15545,  8440,  2039,  2582,  9828,  2039,  6925,  9828,  2039,  5455,\n",
       "         2039,  5503,  2039,  1826,  3550,  1366,  1058,  1268,  2039,  1917,\n",
       "         2189,  6203,   207,   185,  2482,   821,   207,    16,  6337,   405,\n",
       "          263,    75,  7050, 15545,  8440,  6203,   207,   185,  2482,   821,\n",
       "          207,    17,  6337,   405,   748,  3550,   452,  1070,    37,    62,\n",
       "           32,    62,    50,    62, 29924,  2270,  7926,   334,  6670,  2039,\n",
       "          263,    75,  7050, 15545,  8440,  2039,  2582,  9828,  2039,  6925,\n",
       "         9828,  2039,  5455,  2039,  5503,  2039,  1826,  3550,  1366,  1058,\n",
       "         1268,  2039,  2515,  2189,  6203,   207,   185,  2125,  3857,  6203,\n",
       "          207,   185,    92,  5765,   334, 12982,   300,  2189,   507,   207,\n",
       "          185, 18557,  1694, 12982,   334,   300,  2189,  6203,   207,   185,\n",
       "           92,  6339,   507,   207,   185,  7428, 26556,   334,  6670,  2189,\n",
       "         6203,   207,   185,    92,   207,   185,    92,   207,   185],\n",
       "       device='cuda:0')"
      ]
     },
     "execution_count": 68,
     "metadata": {},
     "output_type": "execute_result"
    }
   ],
   "source": [
    "first_batch[0]"
   ]
  },
  {
   "cell_type": "code",
   "execution_count": 10,
   "metadata": {},
   "outputs": [],
   "source": [
    "lr = 1e-5\n",
    "num_epochs = 5"
   ]
  },
  {
   "cell_type": "code",
   "execution_count": 11,
   "metadata": {},
   "outputs": [
    {
     "name": "stderr",
     "output_type": "stream",
     "text": [
      "0it [00:00, ?it/s]"
     ]
    },
    {
     "name": "stdout",
     "output_type": "stream",
     "text": [
      "input shape: torch.Size([1, 173])\n"
     ]
    },
    {
     "name": "stderr",
     "output_type": "stream",
     "text": [
      "2it [00:01,  1.55it/s]"
     ]
    },
    {
     "name": "stdout",
     "output_type": "stream",
     "text": [
      "loss: 8.689229011535645\n",
      "input shape: torch.Size([1, 567])\n",
      "loss: nan\n",
      "input shape: torch.Size([1, 205])\n"
     ]
    },
    {
     "name": "stderr",
     "output_type": "stream",
     "text": [
      "4it [00:01,  3.20it/s]"
     ]
    },
    {
     "name": "stdout",
     "output_type": "stream",
     "text": [
      "loss: nan\n",
      "input shape: torch.Size([1, 531])\n",
      "loss: nan\n",
      "input shape: torch.Size([1, 109])\n"
     ]
    },
    {
     "name": "stderr",
     "output_type": "stream",
     "text": [
      "6it [00:02,  4.55it/s]"
     ]
    },
    {
     "name": "stdout",
     "output_type": "stream",
     "text": [
      "loss: nan\n",
      "input shape: torch.Size([1, 528])\n",
      "loss: nan\n",
      "input shape: torch.Size([1, 173])\n"
     ]
    },
    {
     "name": "stderr",
     "output_type": "stream",
     "text": [
      "8it [00:02,  5.72it/s]"
     ]
    },
    {
     "name": "stdout",
     "output_type": "stream",
     "text": [
      "loss: nan\n",
      "input shape: torch.Size([1, 288])\n",
      "loss: nan\n",
      "input shape: torch.Size([1, 158])\n"
     ]
    },
    {
     "name": "stderr",
     "output_type": "stream",
     "text": [
      "10it [00:02,  6.10it/s]"
     ]
    },
    {
     "name": "stdout",
     "output_type": "stream",
     "text": [
      "loss: nan\n",
      "input shape: torch.Size([1, 614])\n",
      "loss: nan\n",
      "input shape: torch.Size([1, 117])\n"
     ]
    },
    {
     "name": "stderr",
     "output_type": "stream",
     "text": [
      "12it [00:02,  6.62it/s]"
     ]
    },
    {
     "name": "stdout",
     "output_type": "stream",
     "text": [
      "loss: nan\n",
      "input shape: torch.Size([1, 356])\n",
      "loss: nan\n",
      "input shape: torch.Size([1, 206])\n"
     ]
    },
    {
     "name": "stderr",
     "output_type": "stream",
     "text": [
      "14it [00:03,  6.80it/s]"
     ]
    },
    {
     "name": "stdout",
     "output_type": "stream",
     "text": [
      "loss: nan\n",
      "input shape: torch.Size([1, 223])\n",
      "loss: nan\n",
      "input shape: torch.Size([1, 507])\n"
     ]
    },
    {
     "name": "stderr",
     "output_type": "stream",
     "text": [
      "16it [00:03,  6.85it/s]"
     ]
    },
    {
     "name": "stdout",
     "output_type": "stream",
     "text": [
      "loss: nan\n",
      "input shape: torch.Size([1, 350])\n",
      "loss: nan\n",
      "input shape: torch.Size([1, 152])\n"
     ]
    },
    {
     "name": "stderr",
     "output_type": "stream",
     "text": [
      "18it [00:03,  6.97it/s]"
     ]
    },
    {
     "name": "stdout",
     "output_type": "stream",
     "text": [
      "loss: nan\n",
      "input shape: torch.Size([1, 379])\n",
      "loss: nan\n",
      "input shape: torch.Size([1, 268])\n"
     ]
    },
    {
     "name": "stderr",
     "output_type": "stream",
     "text": [
      "20it [00:04,  7.14it/s]"
     ]
    },
    {
     "name": "stdout",
     "output_type": "stream",
     "text": [
      "loss: nan\n",
      "input shape: torch.Size([1, 143])\n",
      "loss: nan\n",
      "input shape: torch.Size([1, 190])\n"
     ]
    },
    {
     "name": "stderr",
     "output_type": "stream",
     "text": [
      "22it [00:04,  7.04it/s]"
     ]
    },
    {
     "name": "stdout",
     "output_type": "stream",
     "text": [
      "loss: nan\n",
      "input shape: torch.Size([1, 423])\n",
      "loss: nan\n",
      "input shape: torch.Size([1, 285])\n"
     ]
    },
    {
     "name": "stderr",
     "output_type": "stream",
     "text": [
      "24it [00:04,  7.14it/s]"
     ]
    },
    {
     "name": "stdout",
     "output_type": "stream",
     "text": [
      "loss: nan\n",
      "input shape: torch.Size([1, 342])\n",
      "loss: nan\n",
      "input shape: torch.Size([1, 516])\n"
     ]
    },
    {
     "name": "stderr",
     "output_type": "stream",
     "text": [
      "26it [00:04,  7.00it/s]"
     ]
    },
    {
     "name": "stdout",
     "output_type": "stream",
     "text": [
      "loss: nan\n",
      "input shape: torch.Size([1, 233])\n",
      "loss: nan\n",
      "input shape: torch.Size([1, 189])\n"
     ]
    },
    {
     "name": "stderr",
     "output_type": "stream",
     "text": [
      "28it [00:05,  7.07it/s]"
     ]
    },
    {
     "name": "stdout",
     "output_type": "stream",
     "text": [
      "loss: nan\n",
      "input shape: torch.Size([1, 374])\n",
      "loss: nan\n",
      "input shape: torch.Size([1, 255])\n"
     ]
    },
    {
     "name": "stderr",
     "output_type": "stream",
     "text": [
      "30it [00:05,  7.13it/s]"
     ]
    },
    {
     "name": "stdout",
     "output_type": "stream",
     "text": [
      "loss: nan\n",
      "input shape: torch.Size([1, 232])\n",
      "loss: nan\n",
      "input shape: torch.Size([1, 457])\n"
     ]
    },
    {
     "name": "stderr",
     "output_type": "stream",
     "text": [
      "32it [00:05,  6.91it/s]"
     ]
    },
    {
     "name": "stdout",
     "output_type": "stream",
     "text": [
      "loss: nan\n",
      "input shape: torch.Size([1, 376])\n",
      "loss: nan\n",
      "input shape: torch.Size([1, 388])\n"
     ]
    },
    {
     "name": "stderr",
     "output_type": "stream",
     "text": [
      "34it [00:06,  6.65it/s]"
     ]
    },
    {
     "name": "stdout",
     "output_type": "stream",
     "text": [
      "loss: nan\n",
      "input shape: torch.Size([1, 109])\n",
      "loss: nan\n",
      "input shape: torch.Size([1, 519])\n"
     ]
    },
    {
     "name": "stderr",
     "output_type": "stream",
     "text": [
      "36it [00:06,  6.44it/s]"
     ]
    },
    {
     "name": "stdout",
     "output_type": "stream",
     "text": [
      "loss: nan\n",
      "input shape: torch.Size([1, 421])\n",
      "loss: nan\n",
      "input shape: torch.Size([1, 580])\n"
     ]
    },
    {
     "name": "stderr",
     "output_type": "stream",
     "text": [
      "38it [00:06,  6.46it/s]"
     ]
    },
    {
     "name": "stdout",
     "output_type": "stream",
     "text": [
      "loss: nan\n",
      "input shape: torch.Size([1, 308])\n",
      "loss: nan\n",
      "input shape: torch.Size([1, 292])\n"
     ]
    },
    {
     "name": "stderr",
     "output_type": "stream",
     "text": [
      "40it [00:07,  6.53it/s]"
     ]
    },
    {
     "name": "stdout",
     "output_type": "stream",
     "text": [
      "loss: nan\n",
      "input shape: torch.Size([1, 82])\n",
      "loss: nan\n",
      "input shape: torch.Size([1, 409])\n"
     ]
    },
    {
     "name": "stderr",
     "output_type": "stream",
     "text": [
      "42it [00:07,  6.56it/s]"
     ]
    },
    {
     "name": "stdout",
     "output_type": "stream",
     "text": [
      "loss: nan\n",
      "input shape: torch.Size([1, 324])\n",
      "loss: nan\n",
      "input shape: torch.Size([1, 693])\n"
     ]
    },
    {
     "name": "stderr",
     "output_type": "stream",
     "text": [
      "44it [00:07,  6.19it/s]"
     ]
    },
    {
     "name": "stdout",
     "output_type": "stream",
     "text": [
      "loss: nan\n",
      "input shape: torch.Size([1, 282])\n",
      "loss: nan\n",
      "input shape: torch.Size([1, 152])\n"
     ]
    },
    {
     "name": "stderr",
     "output_type": "stream",
     "text": [
      "46it [00:08,  5.98it/s]"
     ]
    },
    {
     "name": "stdout",
     "output_type": "stream",
     "text": [
      "loss: nan\n",
      "input shape: torch.Size([1, 677])\n",
      "loss: nan\n",
      "input shape: torch.Size([1, 364])\n"
     ]
    },
    {
     "name": "stderr",
     "output_type": "stream",
     "text": [
      "48it [00:08,  6.23it/s]"
     ]
    },
    {
     "name": "stdout",
     "output_type": "stream",
     "text": [
      "loss: nan\n",
      "input shape: torch.Size([1, 304])\n",
      "loss: nan\n",
      "input shape: torch.Size([1, 208])\n"
     ]
    },
    {
     "name": "stderr",
     "output_type": "stream",
     "text": [
      "50it [00:08,  6.45it/s]"
     ]
    },
    {
     "name": "stdout",
     "output_type": "stream",
     "text": [
      "loss: nan\n",
      "input shape: torch.Size([1, 141])\n",
      "loss: nan\n",
      "input shape: torch.Size([1, 519])\n"
     ]
    },
    {
     "name": "stderr",
     "output_type": "stream",
     "text": [
      "52it [00:08,  6.48it/s]"
     ]
    },
    {
     "name": "stdout",
     "output_type": "stream",
     "text": [
      "loss: nan\n",
      "input shape: torch.Size([1, 354])\n",
      "loss: nan\n",
      "input shape: torch.Size([1, 261])\n"
     ]
    },
    {
     "name": "stderr",
     "output_type": "stream",
     "text": [
      "54it [00:09,  6.48it/s]"
     ]
    },
    {
     "name": "stdout",
     "output_type": "stream",
     "text": [
      "loss: nan\n",
      "input shape: torch.Size([1, 305])\n",
      "loss: nan\n",
      "input shape: torch.Size([1, 141])\n"
     ]
    },
    {
     "name": "stderr",
     "output_type": "stream",
     "text": [
      "56it [00:09,  6.51it/s]"
     ]
    },
    {
     "name": "stdout",
     "output_type": "stream",
     "text": [
      "loss: nan\n",
      "input shape: torch.Size([1, 485])\n",
      "loss: nan\n",
      "input shape: torch.Size([1, 218])\n"
     ]
    },
    {
     "name": "stderr",
     "output_type": "stream",
     "text": [
      "58it [00:09,  6.61it/s]"
     ]
    },
    {
     "name": "stdout",
     "output_type": "stream",
     "text": [
      "loss: nan\n",
      "input shape: torch.Size([1, 109])\n",
      "loss: nan\n",
      "input shape: torch.Size([1, 218])\n"
     ]
    },
    {
     "name": "stderr",
     "output_type": "stream",
     "text": [
      "60it [00:10,  6.61it/s]"
     ]
    },
    {
     "name": "stdout",
     "output_type": "stream",
     "text": [
      "loss: nan\n",
      "input shape: torch.Size([1, 314])\n",
      "loss: nan\n",
      "input shape: torch.Size([1, 415])\n"
     ]
    },
    {
     "name": "stderr",
     "output_type": "stream",
     "text": [
      "62it [00:10,  6.58it/s]"
     ]
    },
    {
     "name": "stdout",
     "output_type": "stream",
     "text": [
      "loss: nan\n",
      "input shape: torch.Size([1, 384])\n",
      "loss: nan\n",
      "input shape: torch.Size([1, 180])\n"
     ]
    },
    {
     "name": "stderr",
     "output_type": "stream",
     "text": [
      "63it [00:10,  6.62it/s]"
     ]
    },
    {
     "name": "stdout",
     "output_type": "stream",
     "text": [
      "loss: nan\n",
      "input shape: torch.Size([1, 38])\n"
     ]
    },
    {
     "name": "stderr",
     "output_type": "stream",
     "text": [
      "65it [00:11,  3.62it/s]"
     ]
    },
    {
     "name": "stdout",
     "output_type": "stream",
     "text": [
      "loss: nan\n",
      "input shape: torch.Size([1, 162])\n",
      "loss: nan\n",
      "input shape: torch.Size([1, 401])\n"
     ]
    },
    {
     "name": "stderr",
     "output_type": "stream",
     "text": [
      "67it [00:11,  4.69it/s]"
     ]
    },
    {
     "name": "stdout",
     "output_type": "stream",
     "text": [
      "loss: nan\n",
      "input shape: torch.Size([1, 182])\n",
      "loss: nan\n",
      "input shape: torch.Size([1, 293])\n"
     ]
    },
    {
     "name": "stderr",
     "output_type": "stream",
     "text": [
      "69it [00:12,  5.52it/s]"
     ]
    },
    {
     "name": "stdout",
     "output_type": "stream",
     "text": [
      "loss: nan\n",
      "input shape: torch.Size([1, 145])\n",
      "loss: nan\n",
      "input shape: torch.Size([1, 289])\n"
     ]
    },
    {
     "name": "stderr",
     "output_type": "stream",
     "text": [
      "71it [00:12,  5.66it/s]"
     ]
    },
    {
     "name": "stdout",
     "output_type": "stream",
     "text": [
      "loss: nan\n",
      "input shape: torch.Size([1, 702])\n",
      "loss: nan\n",
      "input shape: torch.Size([1, 259])\n"
     ]
    },
    {
     "name": "stderr",
     "output_type": "stream",
     "text": [
      "73it [00:12,  6.10it/s]"
     ]
    },
    {
     "name": "stdout",
     "output_type": "stream",
     "text": [
      "loss: nan\n",
      "input shape: torch.Size([1, 260])\n",
      "loss: nan\n",
      "input shape: torch.Size([1, 367])\n"
     ]
    },
    {
     "name": "stderr",
     "output_type": "stream",
     "text": [
      "75it [00:13,  6.22it/s]"
     ]
    },
    {
     "name": "stdout",
     "output_type": "stream",
     "text": [
      "loss: nan\n",
      "input shape: torch.Size([1, 486])\n",
      "loss: nan\n",
      "input shape: torch.Size([1, 358])\n"
     ]
    },
    {
     "name": "stderr",
     "output_type": "stream",
     "text": [
      "77it [00:13,  6.40it/s]"
     ]
    },
    {
     "name": "stdout",
     "output_type": "stream",
     "text": [
      "loss: nan\n",
      "input shape: torch.Size([1, 382])\n",
      "loss: nan\n",
      "input shape: torch.Size([1, 429])\n"
     ]
    },
    {
     "name": "stderr",
     "output_type": "stream",
     "text": [
      "79it [00:13,  6.46it/s]"
     ]
    },
    {
     "name": "stdout",
     "output_type": "stream",
     "text": [
      "loss: nan\n",
      "input shape: torch.Size([1, 225])\n",
      "loss: nan\n",
      "input shape: torch.Size([1, 210])\n"
     ]
    },
    {
     "name": "stderr",
     "output_type": "stream",
     "text": [
      "81it [00:13,  6.50it/s]"
     ]
    },
    {
     "name": "stdout",
     "output_type": "stream",
     "text": [
      "loss: nan\n",
      "input shape: torch.Size([1, 294])\n",
      "loss: nan\n",
      "input shape: torch.Size([1, 331])\n"
     ]
    },
    {
     "name": "stderr",
     "output_type": "stream",
     "text": [
      "83it [00:14,  6.54it/s]"
     ]
    },
    {
     "name": "stdout",
     "output_type": "stream",
     "text": [
      "loss: nan\n",
      "input shape: torch.Size([1, 216])\n",
      "loss: nan\n",
      "input shape: torch.Size([1, 242])\n"
     ]
    },
    {
     "name": "stderr",
     "output_type": "stream",
     "text": [
      "85it [00:14,  6.57it/s]"
     ]
    },
    {
     "name": "stdout",
     "output_type": "stream",
     "text": [
      "loss: nan\n",
      "input shape: torch.Size([1, 372])\n",
      "loss: nan\n",
      "input shape: torch.Size([1, 117])\n"
     ]
    },
    {
     "name": "stderr",
     "output_type": "stream",
     "text": [
      "87it [00:14,  6.58it/s]"
     ]
    },
    {
     "name": "stdout",
     "output_type": "stream",
     "text": [
      "loss: nan\n",
      "input shape: torch.Size([1, 94])\n",
      "loss: nan\n",
      "input shape: torch.Size([1, 236])\n"
     ]
    },
    {
     "name": "stderr",
     "output_type": "stream",
     "text": [
      "89it [00:15,  6.65it/s]"
     ]
    },
    {
     "name": "stdout",
     "output_type": "stream",
     "text": [
      "loss: nan\n",
      "input shape: torch.Size([1, 243])\n",
      "loss: nan\n",
      "input shape: torch.Size([1, 88])\n"
     ]
    },
    {
     "name": "stderr",
     "output_type": "stream",
     "text": [
      "91it [00:15,  6.61it/s]"
     ]
    },
    {
     "name": "stdout",
     "output_type": "stream",
     "text": [
      "loss: nan\n",
      "input shape: torch.Size([1, 502])\n",
      "loss: nan\n",
      "input shape: torch.Size([1, 386])\n"
     ]
    },
    {
     "name": "stderr",
     "output_type": "stream",
     "text": [
      "93it [00:15,  6.57it/s]"
     ]
    },
    {
     "name": "stdout",
     "output_type": "stream",
     "text": [
      "loss: nan\n",
      "input shape: torch.Size([1, 282])\n",
      "loss: nan\n",
      "input shape: torch.Size([1, 210])\n"
     ]
    },
    {
     "name": "stderr",
     "output_type": "stream",
     "text": [
      "95it [00:16,  6.73it/s]"
     ]
    },
    {
     "name": "stdout",
     "output_type": "stream",
     "text": [
      "loss: nan\n",
      "input shape: torch.Size([1, 353])\n",
      "loss: nan\n",
      "input shape: torch.Size([1, 325])\n"
     ]
    },
    {
     "name": "stderr",
     "output_type": "stream",
     "text": [
      "97it [00:16,  6.11it/s]"
     ]
    },
    {
     "name": "stdout",
     "output_type": "stream",
     "text": [
      "loss: nan\n",
      "input shape: torch.Size([1, 725])\n",
      "loss: nan\n",
      "input shape: torch.Size([1, 286])\n"
     ]
    },
    {
     "name": "stderr",
     "output_type": "stream",
     "text": [
      "99it [00:16,  6.04it/s]"
     ]
    },
    {
     "name": "stdout",
     "output_type": "stream",
     "text": [
      "loss: nan\n",
      "input shape: torch.Size([1, 658])\n",
      "loss: nan\n",
      "input shape: torch.Size([1, 146])\n"
     ]
    },
    {
     "name": "stderr",
     "output_type": "stream",
     "text": [
      "101it [00:17,  6.26it/s]"
     ]
    },
    {
     "name": "stdout",
     "output_type": "stream",
     "text": [
      "loss: nan\n",
      "input shape: torch.Size([1, 485])\n",
      "loss: nan\n",
      "input shape: torch.Size([1, 523])\n"
     ]
    },
    {
     "name": "stderr",
     "output_type": "stream",
     "text": [
      "103it [00:17,  6.49it/s]"
     ]
    },
    {
     "name": "stdout",
     "output_type": "stream",
     "text": [
      "loss: nan\n",
      "input shape: torch.Size([1, 382])\n",
      "loss: nan\n",
      "input shape: torch.Size([1, 71])\n"
     ]
    },
    {
     "name": "stderr",
     "output_type": "stream",
     "text": [
      "105it [00:17,  6.69it/s]"
     ]
    },
    {
     "name": "stdout",
     "output_type": "stream",
     "text": [
      "loss: nan\n",
      "input shape: torch.Size([1, 235])\n",
      "loss: nan\n",
      "input shape: torch.Size([1, 408])\n"
     ]
    },
    {
     "name": "stderr",
     "output_type": "stream",
     "text": [
      "107it [00:17,  6.69it/s]"
     ]
    },
    {
     "name": "stdout",
     "output_type": "stream",
     "text": [
      "loss: nan\n",
      "input shape: torch.Size([1, 173])\n",
      "loss: nan\n",
      "input shape: torch.Size([1, 187])\n"
     ]
    },
    {
     "name": "stderr",
     "output_type": "stream",
     "text": [
      "109it [00:18,  6.44it/s]"
     ]
    },
    {
     "name": "stdout",
     "output_type": "stream",
     "text": [
      "loss: nan\n",
      "input shape: torch.Size([1, 551])\n",
      "loss: nan\n",
      "input shape: torch.Size([1, 497])\n"
     ]
    },
    {
     "name": "stderr",
     "output_type": "stream",
     "text": [
      "111it [00:18,  6.46it/s]"
     ]
    },
    {
     "name": "stdout",
     "output_type": "stream",
     "text": [
      "loss: nan\n",
      "input shape: torch.Size([1, 170])\n",
      "loss: nan\n",
      "input shape: torch.Size([1, 145])\n"
     ]
    },
    {
     "name": "stderr",
     "output_type": "stream",
     "text": [
      "113it [00:18,  6.64it/s]"
     ]
    },
    {
     "name": "stdout",
     "output_type": "stream",
     "text": [
      "loss: nan\n",
      "input shape: torch.Size([1, 239])\n",
      "loss: nan\n",
      "input shape: torch.Size([1, 243])\n"
     ]
    },
    {
     "name": "stderr",
     "output_type": "stream",
     "text": [
      "115it [00:19,  6.59it/s]"
     ]
    },
    {
     "name": "stdout",
     "output_type": "stream",
     "text": [
      "loss: nan\n",
      "input shape: torch.Size([1, 469])\n",
      "loss: nan\n",
      "input shape: torch.Size([1, 155])\n"
     ]
    },
    {
     "name": "stderr",
     "output_type": "stream",
     "text": [
      "117it [00:19,  6.67it/s]"
     ]
    },
    {
     "name": "stdout",
     "output_type": "stream",
     "text": [
      "loss: nan\n",
      "input shape: torch.Size([1, 170])\n",
      "loss: nan\n",
      "input shape: torch.Size([1, 213])\n"
     ]
    },
    {
     "name": "stderr",
     "output_type": "stream",
     "text": [
      "119it [00:19,  6.50it/s]"
     ]
    },
    {
     "name": "stdout",
     "output_type": "stream",
     "text": [
      "loss: nan\n",
      "input shape: torch.Size([1, 502])\n",
      "loss: nan\n",
      "input shape: torch.Size([1, 243])\n"
     ]
    },
    {
     "name": "stderr",
     "output_type": "stream",
     "text": [
      "121it [00:20,  6.46it/s]"
     ]
    },
    {
     "name": "stdout",
     "output_type": "stream",
     "text": [
      "loss: nan\n",
      "input shape: torch.Size([1, 492])\n",
      "loss: nan\n",
      "input shape: torch.Size([1, 100])\n"
     ]
    },
    {
     "name": "stderr",
     "output_type": "stream",
     "text": [
      "123it [00:20,  6.00it/s]"
     ]
    },
    {
     "name": "stdout",
     "output_type": "stream",
     "text": [
      "loss: nan\n",
      "input shape: torch.Size([1, 760])\n",
      "loss: nan\n",
      "input shape: torch.Size([1, 136])\n"
     ]
    },
    {
     "name": "stderr",
     "output_type": "stream",
     "text": [
      "125it [00:20,  6.33it/s]"
     ]
    },
    {
     "name": "stdout",
     "output_type": "stream",
     "text": [
      "loss: nan\n",
      "input shape: torch.Size([1, 305])\n",
      "loss: nan\n",
      "input shape: torch.Size([1, 142])\n"
     ]
    },
    {
     "name": "stderr",
     "output_type": "stream",
     "text": [
      "127it [00:21,  6.52it/s]"
     ]
    },
    {
     "name": "stdout",
     "output_type": "stream",
     "text": [
      "loss: nan\n",
      "input shape: torch.Size([1, 226])\n",
      "loss: nan\n",
      "input shape: torch.Size([1, 179])\n"
     ]
    },
    {
     "name": "stderr",
     "output_type": "stream",
     "text": [
      "129it [00:21,  6.66it/s]"
     ]
    },
    {
     "name": "stdout",
     "output_type": "stream",
     "text": [
      "loss: nan\n",
      "input shape: torch.Size([1, 121])\n",
      "loss: nan\n",
      "input shape: torch.Size([1, 311])\n"
     ]
    },
    {
     "name": "stderr",
     "output_type": "stream",
     "text": [
      "131it [00:21,  6.68it/s]"
     ]
    },
    {
     "name": "stdout",
     "output_type": "stream",
     "text": [
      "loss: nan\n",
      "input shape: torch.Size([1, 235])\n",
      "loss: nan\n",
      "input shape: torch.Size([1, 433])\n"
     ]
    },
    {
     "name": "stderr",
     "output_type": "stream",
     "text": [
      "133it [00:21,  6.63it/s]"
     ]
    },
    {
     "name": "stdout",
     "output_type": "stream",
     "text": [
      "loss: nan\n",
      "input shape: torch.Size([1, 371])\n",
      "loss: nan\n",
      "input shape: torch.Size([1, 562])\n"
     ]
    },
    {
     "name": "stderr",
     "output_type": "stream",
     "text": [
      "135it [00:22,  6.62it/s]"
     ]
    },
    {
     "name": "stdout",
     "output_type": "stream",
     "text": [
      "loss: nan\n",
      "input shape: torch.Size([1, 253])\n",
      "loss: nan\n",
      "input shape: torch.Size([1, 236])\n"
     ]
    },
    {
     "name": "stderr",
     "output_type": "stream",
     "text": [
      "137it [00:22,  6.62it/s]"
     ]
    },
    {
     "name": "stdout",
     "output_type": "stream",
     "text": [
      "loss: nan\n",
      "input shape: torch.Size([1, 494])\n",
      "loss: nan\n",
      "input shape: torch.Size([1, 204])\n"
     ]
    },
    {
     "name": "stderr",
     "output_type": "stream",
     "text": [
      "139it [00:22,  6.57it/s]"
     ]
    },
    {
     "name": "stdout",
     "output_type": "stream",
     "text": [
      "loss: nan\n",
      "input shape: torch.Size([1, 242])\n",
      "loss: nan\n",
      "input shape: torch.Size([1, 301])\n"
     ]
    },
    {
     "name": "stderr",
     "output_type": "stream",
     "text": [
      "141it [00:23,  6.65it/s]"
     ]
    },
    {
     "name": "stdout",
     "output_type": "stream",
     "text": [
      "loss: nan\n",
      "input shape: torch.Size([1, 338])\n",
      "loss: nan\n",
      "input shape: torch.Size([1, 358])\n"
     ]
    },
    {
     "name": "stderr",
     "output_type": "stream",
     "text": [
      "143it [00:23,  6.53it/s]"
     ]
    },
    {
     "name": "stdout",
     "output_type": "stream",
     "text": [
      "loss: nan\n",
      "input shape: torch.Size([1, 412])\n",
      "loss: nan\n",
      "input shape: torch.Size([1, 245])\n"
     ]
    },
    {
     "name": "stderr",
     "output_type": "stream",
     "text": [
      "145it [00:23,  6.63it/s]"
     ]
    },
    {
     "name": "stdout",
     "output_type": "stream",
     "text": [
      "loss: nan\n",
      "input shape: torch.Size([1, 337])\n",
      "loss: nan\n",
      "input shape: torch.Size([1, 288])\n"
     ]
    },
    {
     "name": "stderr",
     "output_type": "stream",
     "text": [
      "147it [00:24,  6.87it/s]"
     ]
    },
    {
     "name": "stdout",
     "output_type": "stream",
     "text": [
      "loss: nan\n",
      "input shape: torch.Size([1, 297])\n",
      "loss: nan\n",
      "input shape: torch.Size([1, 341])\n"
     ]
    },
    {
     "name": "stderr",
     "output_type": "stream",
     "text": [
      "149it [00:24,  7.04it/s]"
     ]
    },
    {
     "name": "stdout",
     "output_type": "stream",
     "text": [
      "loss: nan\n",
      "input shape: torch.Size([1, 162])\n",
      "loss: nan\n",
      "input shape: torch.Size([1, 379])\n"
     ]
    },
    {
     "name": "stderr",
     "output_type": "stream",
     "text": [
      "151it [00:24,  6.96it/s]"
     ]
    },
    {
     "name": "stdout",
     "output_type": "stream",
     "text": [
      "loss: nan\n",
      "input shape: torch.Size([1, 255])\n",
      "loss: nan\n",
      "input shape: torch.Size([1, 355])\n"
     ]
    },
    {
     "name": "stderr",
     "output_type": "stream",
     "text": [
      "153it [00:24,  6.92it/s]"
     ]
    },
    {
     "name": "stdout",
     "output_type": "stream",
     "text": [
      "loss: nan\n",
      "input shape: torch.Size([1, 416])\n",
      "loss: nan\n",
      "input shape: torch.Size([1, 254])\n"
     ]
    },
    {
     "name": "stderr",
     "output_type": "stream",
     "text": [
      "155it [00:25,  7.00it/s]"
     ]
    },
    {
     "name": "stdout",
     "output_type": "stream",
     "text": [
      "loss: nan\n",
      "input shape: torch.Size([1, 241])\n",
      "loss: nan\n",
      "input shape: torch.Size([1, 247])\n"
     ]
    },
    {
     "name": "stderr",
     "output_type": "stream",
     "text": [
      "157it [00:25,  7.03it/s]"
     ]
    },
    {
     "name": "stdout",
     "output_type": "stream",
     "text": [
      "loss: nan\n",
      "input shape: torch.Size([1, 227])\n",
      "loss: nan\n",
      "input shape: torch.Size([1, 460])\n"
     ]
    },
    {
     "name": "stderr",
     "output_type": "stream",
     "text": [
      "159it [00:25,  6.96it/s]"
     ]
    },
    {
     "name": "stdout",
     "output_type": "stream",
     "text": [
      "loss: nan\n",
      "input shape: torch.Size([1, 327])\n",
      "loss: nan\n",
      "input shape: torch.Size([1, 304])\n"
     ]
    },
    {
     "name": "stderr",
     "output_type": "stream",
     "text": [
      "161it [00:26,  7.09it/s]"
     ]
    },
    {
     "name": "stdout",
     "output_type": "stream",
     "text": [
      "loss: nan\n",
      "input shape: torch.Size([1, 203])\n",
      "loss: nan\n",
      "input shape: torch.Size([1, 610])\n"
     ]
    },
    {
     "name": "stderr",
     "output_type": "stream",
     "text": [
      "163it [00:26,  6.64it/s]"
     ]
    },
    {
     "name": "stdout",
     "output_type": "stream",
     "text": [
      "loss: nan\n",
      "input shape: torch.Size([1, 399])\n",
      "loss: nan\n",
      "input shape: torch.Size([1, 488])\n"
     ]
    },
    {
     "name": "stderr",
     "output_type": "stream",
     "text": [
      "165it [00:26,  6.40it/s]"
     ]
    },
    {
     "name": "stdout",
     "output_type": "stream",
     "text": [
      "loss: nan\n",
      "input shape: torch.Size([1, 514])\n",
      "loss: nan\n",
      "input shape: torch.Size([1, 697])\n"
     ]
    },
    {
     "name": "stderr",
     "output_type": "stream",
     "text": [
      "167it [00:27,  6.37it/s]"
     ]
    },
    {
     "name": "stdout",
     "output_type": "stream",
     "text": [
      "loss: nan\n",
      "input shape: torch.Size([1, 148])\n",
      "loss: nan\n",
      "input shape: torch.Size([1, 245])\n"
     ]
    },
    {
     "name": "stderr",
     "output_type": "stream",
     "text": [
      "169it [00:27,  6.74it/s]"
     ]
    },
    {
     "name": "stdout",
     "output_type": "stream",
     "text": [
      "loss: nan\n",
      "input shape: torch.Size([1, 339])\n",
      "loss: nan\n",
      "input shape: torch.Size([1, 259])\n"
     ]
    },
    {
     "name": "stderr",
     "output_type": "stream",
     "text": [
      "171it [00:27,  6.99it/s]"
     ]
    },
    {
     "name": "stdout",
     "output_type": "stream",
     "text": [
      "loss: nan\n",
      "input shape: torch.Size([1, 114])\n",
      "loss: nan\n",
      "input shape: torch.Size([1, 347])\n"
     ]
    },
    {
     "name": "stderr",
     "output_type": "stream",
     "text": [
      "173it [00:27,  6.85it/s]"
     ]
    },
    {
     "name": "stdout",
     "output_type": "stream",
     "text": [
      "loss: nan\n",
      "input shape: torch.Size([1, 482])\n",
      "loss: nan\n",
      "input shape: torch.Size([1, 134])\n"
     ]
    },
    {
     "name": "stderr",
     "output_type": "stream",
     "text": [
      "175it [00:28,  7.03it/s]"
     ]
    },
    {
     "name": "stdout",
     "output_type": "stream",
     "text": [
      "loss: nan\n",
      "input shape: torch.Size([1, 263])\n",
      "loss: nan\n",
      "input shape: torch.Size([1, 160])\n"
     ]
    },
    {
     "name": "stderr",
     "output_type": "stream",
     "text": [
      "177it [00:28,  7.07it/s]"
     ]
    },
    {
     "name": "stdout",
     "output_type": "stream",
     "text": [
      "loss: nan\n",
      "input shape: torch.Size([1, 364])\n",
      "loss: nan\n",
      "input shape: torch.Size([1, 396])\n"
     ]
    },
    {
     "name": "stderr",
     "output_type": "stream",
     "text": [
      "179it [00:28,  6.97it/s]"
     ]
    },
    {
     "name": "stdout",
     "output_type": "stream",
     "text": [
      "loss: nan\n",
      "input shape: torch.Size([1, 191])\n",
      "loss: nan\n",
      "input shape: torch.Size([1, 522])\n"
     ]
    },
    {
     "name": "stderr",
     "output_type": "stream",
     "text": [
      "181it [00:29,  6.91it/s]"
     ]
    },
    {
     "name": "stdout",
     "output_type": "stream",
     "text": [
      "loss: nan\n",
      "input shape: torch.Size([1, 155])\n",
      "loss: nan\n",
      "input shape: torch.Size([1, 109])\n"
     ]
    },
    {
     "name": "stderr",
     "output_type": "stream",
     "text": [
      "183it [00:29,  6.99it/s]"
     ]
    },
    {
     "name": "stdout",
     "output_type": "stream",
     "text": [
      "loss: nan\n",
      "input shape: torch.Size([1, 330])\n",
      "loss: nan\n",
      "input shape: torch.Size([1, 327])\n"
     ]
    },
    {
     "name": "stderr",
     "output_type": "stream",
     "text": [
      "185it [00:29,  7.12it/s]"
     ]
    },
    {
     "name": "stdout",
     "output_type": "stream",
     "text": [
      "loss: nan\n",
      "input shape: torch.Size([1, 256])\n",
      "loss: nan\n",
      "input shape: torch.Size([1, 547])\n"
     ]
    },
    {
     "name": "stderr",
     "output_type": "stream",
     "text": [
      "187it [00:29,  6.86it/s]"
     ]
    },
    {
     "name": "stdout",
     "output_type": "stream",
     "text": [
      "loss: nan\n",
      "input shape: torch.Size([1, 87])\n",
      "loss: nan\n",
      "input shape: torch.Size([1, 371])\n"
     ]
    },
    {
     "name": "stderr",
     "output_type": "stream",
     "text": [
      "189it [00:30,  7.01it/s]"
     ]
    },
    {
     "name": "stdout",
     "output_type": "stream",
     "text": [
      "loss: nan\n",
      "input shape: torch.Size([1, 254])\n",
      "loss: nan\n",
      "input shape: torch.Size([1, 109])\n"
     ]
    },
    {
     "name": "stderr",
     "output_type": "stream",
     "text": [
      "191it [00:30,  7.10it/s]"
     ]
    },
    {
     "name": "stdout",
     "output_type": "stream",
     "text": [
      "loss: nan\n",
      "input shape: torch.Size([1, 219])\n",
      "loss: nan\n",
      "input shape: torch.Size([1, 468])\n"
     ]
    },
    {
     "name": "stderr",
     "output_type": "stream",
     "text": [
      "193it [00:30,  6.97it/s]"
     ]
    },
    {
     "name": "stdout",
     "output_type": "stream",
     "text": [
      "loss: nan\n",
      "input shape: torch.Size([1, 120])\n",
      "loss: nan\n",
      "input shape: torch.Size([1, 205])\n"
     ]
    },
    {
     "name": "stderr",
     "output_type": "stream",
     "text": [
      "195it [00:31,  7.10it/s]"
     ]
    },
    {
     "name": "stdout",
     "output_type": "stream",
     "text": [
      "loss: nan\n",
      "input shape: torch.Size([1, 324])\n",
      "loss: nan\n",
      "input shape: torch.Size([1, 686])\n"
     ]
    },
    {
     "name": "stderr",
     "output_type": "stream",
     "text": [
      "197it [00:31,  6.70it/s]"
     ]
    },
    {
     "name": "stdout",
     "output_type": "stream",
     "text": [
      "loss: nan\n",
      "input shape: torch.Size([1, 302])\n",
      "loss: nan\n",
      "input shape: torch.Size([1, 783])\n"
     ]
    },
    {
     "name": "stderr",
     "output_type": "stream",
     "text": [
      "199it [00:31,  6.12it/s]"
     ]
    },
    {
     "name": "stdout",
     "output_type": "stream",
     "text": [
      "loss: nan\n",
      "input shape: torch.Size([1, 389])\n",
      "loss: nan\n",
      "input shape: torch.Size([1, 561])\n"
     ]
    },
    {
     "name": "stderr",
     "output_type": "stream",
     "text": [
      "201it [00:32,  5.78it/s]"
     ]
    },
    {
     "name": "stdout",
     "output_type": "stream",
     "text": [
      "loss: nan\n",
      "input shape: torch.Size([1, 722])\n",
      "loss: nan\n",
      "input shape: torch.Size([1, 370])\n"
     ]
    },
    {
     "name": "stderr",
     "output_type": "stream",
     "text": [
      "203it [00:32,  6.41it/s]"
     ]
    },
    {
     "name": "stdout",
     "output_type": "stream",
     "text": [
      "loss: nan\n",
      "input shape: torch.Size([1, 305])\n",
      "loss: nan\n",
      "input shape: torch.Size([1, 553])\n"
     ]
    },
    {
     "name": "stderr",
     "output_type": "stream",
     "text": [
      "205it [00:32,  6.58it/s]"
     ]
    },
    {
     "name": "stdout",
     "output_type": "stream",
     "text": [
      "loss: nan\n",
      "input shape: torch.Size([1, 37])\n",
      "loss: nan\n",
      "input shape: torch.Size([1, 478])\n"
     ]
    },
    {
     "name": "stderr",
     "output_type": "stream",
     "text": [
      "207it [00:32,  6.75it/s]"
     ]
    },
    {
     "name": "stdout",
     "output_type": "stream",
     "text": [
      "loss: nan\n",
      "input shape: torch.Size([1, 339])\n",
      "loss: nan\n",
      "input shape: torch.Size([1, 217])\n"
     ]
    },
    {
     "name": "stderr",
     "output_type": "stream",
     "text": [
      "209it [00:33,  7.01it/s]"
     ]
    },
    {
     "name": "stdout",
     "output_type": "stream",
     "text": [
      "loss: nan\n",
      "input shape: torch.Size([1, 277])\n",
      "loss: nan\n",
      "input shape: torch.Size([1, 209])\n"
     ]
    },
    {
     "name": "stderr",
     "output_type": "stream",
     "text": [
      "211it [00:33,  6.75it/s]"
     ]
    },
    {
     "name": "stdout",
     "output_type": "stream",
     "text": [
      "loss: nan\n",
      "input shape: torch.Size([1, 577])\n",
      "loss: nan\n",
      "input shape: torch.Size([1, 435])\n"
     ]
    },
    {
     "name": "stderr",
     "output_type": "stream",
     "text": [
      "213it [00:33,  6.85it/s]"
     ]
    },
    {
     "name": "stdout",
     "output_type": "stream",
     "text": [
      "loss: nan\n",
      "input shape: torch.Size([1, 261])\n",
      "loss: nan\n",
      "input shape: torch.Size([1, 242])\n"
     ]
    },
    {
     "name": "stderr",
     "output_type": "stream",
     "text": [
      "215it [00:34,  7.05it/s]"
     ]
    },
    {
     "name": "stdout",
     "output_type": "stream",
     "text": [
      "loss: nan\n",
      "input shape: torch.Size([1, 154])\n",
      "loss: nan\n",
      "input shape: torch.Size([1, 172])\n"
     ]
    },
    {
     "name": "stderr",
     "output_type": "stream",
     "text": [
      "217it [00:34,  6.93it/s]"
     ]
    },
    {
     "name": "stdout",
     "output_type": "stream",
     "text": [
      "loss: nan\n",
      "input shape: torch.Size([1, 444])\n",
      "loss: nan\n",
      "input shape: torch.Size([1, 317])\n"
     ]
    },
    {
     "name": "stderr",
     "output_type": "stream",
     "text": [
      "219it [00:34,  7.03it/s]"
     ]
    },
    {
     "name": "stdout",
     "output_type": "stream",
     "text": [
      "loss: nan\n",
      "input shape: torch.Size([1, 356])\n",
      "loss: nan\n",
      "input shape: torch.Size([1, 382])\n"
     ]
    },
    {
     "name": "stderr",
     "output_type": "stream",
     "text": [
      "221it [00:34,  7.07it/s]"
     ]
    },
    {
     "name": "stdout",
     "output_type": "stream",
     "text": [
      "loss: nan\n",
      "input shape: torch.Size([1, 373])\n",
      "loss: nan\n",
      "input shape: torch.Size([1, 291])\n"
     ]
    },
    {
     "name": "stderr",
     "output_type": "stream",
     "text": [
      "223it [00:35,  7.14it/s]"
     ]
    },
    {
     "name": "stdout",
     "output_type": "stream",
     "text": [
      "loss: nan\n",
      "input shape: torch.Size([1, 193])\n",
      "loss: nan\n",
      "input shape: torch.Size([1, 431])\n"
     ]
    },
    {
     "name": "stderr",
     "output_type": "stream",
     "text": [
      "225it [00:35,  6.45it/s]"
     ]
    },
    {
     "name": "stdout",
     "output_type": "stream",
     "text": [
      "loss: nan\n",
      "input shape: torch.Size([1, 670])\n",
      "loss: nan\n",
      "input shape: torch.Size([1, 424])\n"
     ]
    },
    {
     "name": "stderr",
     "output_type": "stream",
     "text": [
      "227it [00:35,  6.74it/s]"
     ]
    },
    {
     "name": "stdout",
     "output_type": "stream",
     "text": [
      "loss: nan\n",
      "input shape: torch.Size([1, 158])\n",
      "loss: nan\n",
      "input shape: torch.Size([1, 236])\n"
     ]
    },
    {
     "name": "stderr",
     "output_type": "stream",
     "text": [
      "229it [00:36,  6.97it/s]"
     ]
    },
    {
     "name": "stdout",
     "output_type": "stream",
     "text": [
      "loss: nan\n",
      "input shape: torch.Size([1, 345])\n",
      "loss: nan\n",
      "input shape: torch.Size([1, 410])\n"
     ]
    },
    {
     "name": "stderr",
     "output_type": "stream",
     "text": [
      "231it [00:36,  6.75it/s]"
     ]
    },
    {
     "name": "stdout",
     "output_type": "stream",
     "text": [
      "loss: nan\n",
      "input shape: torch.Size([1, 505])\n",
      "loss: nan\n",
      "input shape: torch.Size([1, 239])\n"
     ]
    },
    {
     "name": "stderr",
     "output_type": "stream",
     "text": [
      "233it [00:36,  7.00it/s]"
     ]
    },
    {
     "name": "stdout",
     "output_type": "stream",
     "text": [
      "loss: nan\n",
      "input shape: torch.Size([1, 250])\n",
      "loss: nan\n",
      "input shape: torch.Size([1, 93])\n"
     ]
    },
    {
     "name": "stderr",
     "output_type": "stream",
     "text": [
      "235it [00:36,  7.08it/s]"
     ]
    },
    {
     "name": "stdout",
     "output_type": "stream",
     "text": [
      "loss: nan\n",
      "input shape: torch.Size([1, 367])\n",
      "loss: nan\n",
      "input shape: torch.Size([1, 285])\n"
     ]
    },
    {
     "name": "stderr",
     "output_type": "stream",
     "text": [
      "237it [00:37,  6.90it/s]"
     ]
    },
    {
     "name": "stdout",
     "output_type": "stream",
     "text": [
      "loss: nan\n",
      "input shape: torch.Size([1, 501])\n",
      "loss: nan\n",
      "input shape: torch.Size([1, 609])\n"
     ]
    },
    {
     "name": "stderr",
     "output_type": "stream",
     "text": [
      "239it [00:37,  6.48it/s]"
     ]
    },
    {
     "name": "stdout",
     "output_type": "stream",
     "text": [
      "loss: nan\n",
      "input shape: torch.Size([1, 558])\n",
      "loss: nan\n",
      "input shape: torch.Size([1, 229])\n"
     ]
    },
    {
     "name": "stderr",
     "output_type": "stream",
     "text": [
      "241it [00:37,  6.57it/s]"
     ]
    },
    {
     "name": "stdout",
     "output_type": "stream",
     "text": [
      "loss: nan\n",
      "input shape: torch.Size([1, 528])\n",
      "loss: nan\n",
      "input shape: torch.Size([1, 216])\n"
     ]
    },
    {
     "name": "stderr",
     "output_type": "stream",
     "text": [
      "243it [00:38,  6.84it/s]"
     ]
    },
    {
     "name": "stdout",
     "output_type": "stream",
     "text": [
      "loss: nan\n",
      "input shape: torch.Size([1, 229])\n",
      "loss: nan\n",
      "input shape: torch.Size([1, 212])\n"
     ]
    },
    {
     "name": "stderr",
     "output_type": "stream",
     "text": [
      "245it [00:38,  6.93it/s]"
     ]
    },
    {
     "name": "stdout",
     "output_type": "stream",
     "text": [
      "loss: nan\n",
      "input shape: torch.Size([1, 178])\n",
      "loss: nan\n",
      "input shape: torch.Size([1, 338])\n"
     ]
    },
    {
     "name": "stderr",
     "output_type": "stream",
     "text": [
      "247it [00:38,  7.07it/s]"
     ]
    },
    {
     "name": "stdout",
     "output_type": "stream",
     "text": [
      "loss: nan\n",
      "input shape: torch.Size([1, 326])\n",
      "loss: nan\n",
      "input shape: torch.Size([1, 134])\n"
     ]
    },
    {
     "name": "stderr",
     "output_type": "stream",
     "text": [
      "249it [00:39,  6.84it/s]"
     ]
    },
    {
     "name": "stdout",
     "output_type": "stream",
     "text": [
      "loss: nan\n",
      "input shape: torch.Size([1, 453])\n",
      "loss: nan\n",
      "input shape: torch.Size([1, 485])\n"
     ]
    },
    {
     "name": "stderr",
     "output_type": "stream",
     "text": [
      "251it [00:39,  6.50it/s]"
     ]
    },
    {
     "name": "stdout",
     "output_type": "stream",
     "text": [
      "loss: nan\n",
      "input shape: torch.Size([1, 387])\n",
      "loss: nan\n",
      "input shape: torch.Size([1, 205])\n"
     ]
    },
    {
     "name": "stderr",
     "output_type": "stream",
     "text": [
      "253it [00:39,  6.42it/s]"
     ]
    },
    {
     "name": "stdout",
     "output_type": "stream",
     "text": [
      "loss: nan\n",
      "input shape: torch.Size([1, 476])\n",
      "loss: nan\n",
      "input shape: torch.Size([1, 481])\n"
     ]
    },
    {
     "name": "stderr",
     "output_type": "stream",
     "text": [
      "255it [00:39,  6.51it/s]"
     ]
    },
    {
     "name": "stdout",
     "output_type": "stream",
     "text": [
      "loss: nan\n",
      "input shape: torch.Size([1, 147])\n",
      "loss: nan\n",
      "input shape: torch.Size([1, 516])\n"
     ]
    },
    {
     "name": "stderr",
     "output_type": "stream",
     "text": [
      "257it [00:40,  6.50it/s]"
     ]
    },
    {
     "name": "stdout",
     "output_type": "stream",
     "text": [
      "loss: nan\n",
      "input shape: torch.Size([1, 292])\n",
      "loss: nan\n",
      "input shape: torch.Size([1, 467])\n"
     ]
    },
    {
     "name": "stderr",
     "output_type": "stream",
     "text": [
      "259it [00:40,  6.50it/s]"
     ]
    },
    {
     "name": "stdout",
     "output_type": "stream",
     "text": [
      "loss: nan\n",
      "input shape: torch.Size([1, 155])\n",
      "loss: nan\n",
      "input shape: torch.Size([1, 285])\n"
     ]
    },
    {
     "name": "stderr",
     "output_type": "stream",
     "text": [
      "261it [00:40,  6.40it/s]"
     ]
    },
    {
     "name": "stdout",
     "output_type": "stream",
     "text": [
      "loss: nan\n",
      "input shape: torch.Size([1, 520])\n",
      "loss: nan\n",
      "input shape: torch.Size([1, 286])\n"
     ]
    },
    {
     "name": "stderr",
     "output_type": "stream",
     "text": [
      "263it [00:41,  6.53it/s]"
     ]
    },
    {
     "name": "stdout",
     "output_type": "stream",
     "text": [
      "loss: nan\n",
      "input shape: torch.Size([1, 306])\n",
      "loss: nan\n",
      "input shape: torch.Size([1, 431])\n"
     ]
    },
    {
     "name": "stderr",
     "output_type": "stream",
     "text": [
      "265it [00:41,  6.52it/s]"
     ]
    },
    {
     "name": "stdout",
     "output_type": "stream",
     "text": [
      "loss: nan\n",
      "input shape: torch.Size([1, 419])\n",
      "loss: nan\n",
      "input shape: torch.Size([1, 204])\n"
     ]
    },
    {
     "name": "stderr",
     "output_type": "stream",
     "text": [
      "267it [00:41,  6.49it/s]"
     ]
    },
    {
     "name": "stdout",
     "output_type": "stream",
     "text": [
      "loss: nan\n",
      "input shape: torch.Size([1, 260])\n",
      "loss: nan\n",
      "input shape: torch.Size([1, 185])\n"
     ]
    },
    {
     "name": "stderr",
     "output_type": "stream",
     "text": [
      "269it [00:42,  6.50it/s]"
     ]
    },
    {
     "name": "stdout",
     "output_type": "stream",
     "text": [
      "loss: nan\n",
      "input shape: torch.Size([1, 390])\n",
      "loss: nan\n",
      "input shape: torch.Size([1, 556])\n"
     ]
    },
    {
     "name": "stderr",
     "output_type": "stream",
     "text": [
      "271it [00:42,  6.47it/s]"
     ]
    },
    {
     "name": "stdout",
     "output_type": "stream",
     "text": [
      "loss: nan\n",
      "input shape: torch.Size([1, 164])\n",
      "loss: nan\n",
      "input shape: torch.Size([1, 152])\n"
     ]
    },
    {
     "name": "stderr",
     "output_type": "stream",
     "text": [
      "273it [00:42,  6.57it/s]"
     ]
    },
    {
     "name": "stdout",
     "output_type": "stream",
     "text": [
      "loss: nan\n",
      "input shape: torch.Size([1, 148])\n",
      "loss: nan\n",
      "input shape: torch.Size([1, 92])\n"
     ]
    },
    {
     "name": "stderr",
     "output_type": "stream",
     "text": [
      "275it [00:43,  6.42it/s]"
     ]
    },
    {
     "name": "stdout",
     "output_type": "stream",
     "text": [
      "loss: nan\n",
      "input shape: torch.Size([1, 540])\n",
      "loss: nan\n",
      "input shape: torch.Size([1, 364])\n"
     ]
    },
    {
     "name": "stderr",
     "output_type": "stream",
     "text": [
      "277it [00:43,  6.60it/s]"
     ]
    },
    {
     "name": "stdout",
     "output_type": "stream",
     "text": [
      "loss: nan\n",
      "input shape: torch.Size([1, 322])\n",
      "loss: nan\n",
      "input shape: torch.Size([1, 197])\n"
     ]
    },
    {
     "name": "stderr",
     "output_type": "stream",
     "text": [
      "279it [00:43,  6.40it/s]"
     ]
    },
    {
     "name": "stdout",
     "output_type": "stream",
     "text": [
      "loss: nan\n",
      "input shape: torch.Size([1, 584])\n",
      "loss: nan\n",
      "input shape: torch.Size([1, 478])\n"
     ]
    },
    {
     "name": "stderr",
     "output_type": "stream",
     "text": [
      "281it [00:43,  6.35it/s]"
     ]
    },
    {
     "name": "stdout",
     "output_type": "stream",
     "text": [
      "loss: nan\n",
      "input shape: torch.Size([1, 546])\n",
      "loss: nan\n",
      "input shape: torch.Size([1, 198])\n"
     ]
    },
    {
     "name": "stderr",
     "output_type": "stream",
     "text": [
      "283it [00:44,  6.12it/s]"
     ]
    },
    {
     "name": "stdout",
     "output_type": "stream",
     "text": [
      "loss: nan\n",
      "input shape: torch.Size([1, 658])\n",
      "loss: nan\n",
      "input shape: torch.Size([1, 381])\n"
     ]
    },
    {
     "name": "stderr",
     "output_type": "stream",
     "text": [
      "285it [00:44,  6.34it/s]"
     ]
    },
    {
     "name": "stdout",
     "output_type": "stream",
     "text": [
      "loss: nan\n",
      "input shape: torch.Size([1, 417])\n",
      "loss: nan\n",
      "input shape: torch.Size([1, 147])\n"
     ]
    },
    {
     "name": "stderr",
     "output_type": "stream",
     "text": [
      "287it [00:44,  6.46it/s]"
     ]
    },
    {
     "name": "stdout",
     "output_type": "stream",
     "text": [
      "loss: nan\n",
      "input shape: torch.Size([1, 212])\n",
      "loss: nan\n",
      "input shape: torch.Size([1, 579])\n"
     ]
    },
    {
     "name": "stderr",
     "output_type": "stream",
     "text": [
      "289it [00:45,  6.26it/s]"
     ]
    },
    {
     "name": "stdout",
     "output_type": "stream",
     "text": [
      "loss: nan\n",
      "input shape: torch.Size([1, 582])\n",
      "loss: nan\n",
      "input shape: torch.Size([1, 261])\n"
     ]
    },
    {
     "name": "stderr",
     "output_type": "stream",
     "text": [
      "291it [00:45,  6.45it/s]"
     ]
    },
    {
     "name": "stdout",
     "output_type": "stream",
     "text": [
      "loss: nan\n",
      "input shape: torch.Size([1, 248])\n",
      "loss: nan\n",
      "input shape: torch.Size([1, 306])\n"
     ]
    },
    {
     "name": "stderr",
     "output_type": "stream",
     "text": [
      "293it [00:45,  6.59it/s]"
     ]
    },
    {
     "name": "stdout",
     "output_type": "stream",
     "text": [
      "loss: nan\n",
      "input shape: torch.Size([1, 220])\n",
      "loss: nan\n",
      "input shape: torch.Size([1, 405])\n"
     ]
    },
    {
     "name": "stderr",
     "output_type": "stream",
     "text": [
      "295it [00:46,  6.69it/s]"
     ]
    },
    {
     "name": "stdout",
     "output_type": "stream",
     "text": [
      "loss: nan\n",
      "input shape: torch.Size([1, 137])\n",
      "loss: nan\n",
      "input shape: torch.Size([1, 134])\n"
     ]
    },
    {
     "name": "stderr",
     "output_type": "stream",
     "text": [
      "297it [00:46,  6.70it/s]"
     ]
    },
    {
     "name": "stdout",
     "output_type": "stream",
     "text": [
      "loss: nan\n",
      "input shape: torch.Size([1, 392])\n",
      "loss: nan\n",
      "input shape: torch.Size([1, 209])\n"
     ]
    },
    {
     "name": "stderr",
     "output_type": "stream",
     "text": [
      "299it [00:46,  6.76it/s]"
     ]
    },
    {
     "name": "stdout",
     "output_type": "stream",
     "text": [
      "loss: nan\n",
      "input shape: torch.Size([1, 313])\n",
      "loss: nan\n",
      "input shape: torch.Size([1, 362])\n"
     ]
    },
    {
     "name": "stderr",
     "output_type": "stream",
     "text": [
      "301it [00:47,  6.86it/s]"
     ]
    },
    {
     "name": "stdout",
     "output_type": "stream",
     "text": [
      "loss: nan\n",
      "input shape: torch.Size([1, 148])\n",
      "loss: nan\n",
      "input shape: torch.Size([1, 457])\n"
     ]
    },
    {
     "name": "stderr",
     "output_type": "stream",
     "text": [
      "303it [00:47,  6.82it/s]"
     ]
    },
    {
     "name": "stdout",
     "output_type": "stream",
     "text": [
      "loss: nan\n",
      "input shape: torch.Size([1, 137])\n",
      "loss: nan\n",
      "input shape: torch.Size([1, 58])\n"
     ]
    },
    {
     "name": "stderr",
     "output_type": "stream",
     "text": [
      "305it [00:47,  6.73it/s]"
     ]
    },
    {
     "name": "stdout",
     "output_type": "stream",
     "text": [
      "loss: nan\n",
      "input shape: torch.Size([1, 38])\n",
      "loss: nan\n",
      "input shape: torch.Size([1, 422])\n"
     ]
    },
    {
     "name": "stderr",
     "output_type": "stream",
     "text": [
      "307it [00:47,  6.85it/s]"
     ]
    },
    {
     "name": "stdout",
     "output_type": "stream",
     "text": [
      "loss: nan\n",
      "input shape: torch.Size([1, 148])\n",
      "loss: nan\n",
      "input shape: torch.Size([1, 135])\n"
     ]
    },
    {
     "name": "stderr",
     "output_type": "stream",
     "text": [
      "309it [00:48,  6.74it/s]"
     ]
    },
    {
     "name": "stdout",
     "output_type": "stream",
     "text": [
      "loss: nan\n",
      "input shape: torch.Size([1, 286])\n",
      "loss: nan\n",
      "input shape: torch.Size([1, 292])\n"
     ]
    },
    {
     "name": "stderr",
     "output_type": "stream",
     "text": [
      "311it [00:48,  6.68it/s]"
     ]
    },
    {
     "name": "stdout",
     "output_type": "stream",
     "text": [
      "loss: nan\n",
      "input shape: torch.Size([1, 243])\n",
      "loss: nan\n",
      "input shape: torch.Size([1, 369])\n"
     ]
    },
    {
     "name": "stderr",
     "output_type": "stream",
     "text": [
      "313it [00:48,  6.74it/s]"
     ]
    },
    {
     "name": "stdout",
     "output_type": "stream",
     "text": [
      "loss: nan\n",
      "input shape: torch.Size([1, 382])\n",
      "loss: nan\n",
      "input shape: torch.Size([1, 231])\n"
     ]
    },
    {
     "name": "stderr",
     "output_type": "stream",
     "text": [
      "315it [00:49,  6.73it/s]"
     ]
    },
    {
     "name": "stdout",
     "output_type": "stream",
     "text": [
      "loss: nan\n",
      "input shape: torch.Size([1, 109])\n",
      "loss: nan\n",
      "input shape: torch.Size([1, 256])\n"
     ]
    },
    {
     "name": "stderr",
     "output_type": "stream",
     "text": [
      "317it [00:49,  6.72it/s]"
     ]
    },
    {
     "name": "stdout",
     "output_type": "stream",
     "text": [
      "loss: nan\n",
      "input shape: torch.Size([1, 225])\n",
      "loss: nan\n",
      "input shape: torch.Size([1, 439])\n"
     ]
    },
    {
     "name": "stderr",
     "output_type": "stream",
     "text": [
      "319it [00:49,  6.65it/s]"
     ]
    },
    {
     "name": "stdout",
     "output_type": "stream",
     "text": [
      "loss: nan\n",
      "input shape: torch.Size([1, 274])\n",
      "loss: nan\n",
      "input shape: torch.Size([1, 489])\n"
     ]
    },
    {
     "name": "stderr",
     "output_type": "stream",
     "text": [
      "321it [00:50,  6.61it/s]"
     ]
    },
    {
     "name": "stdout",
     "output_type": "stream",
     "text": [
      "loss: nan\n",
      "input shape: torch.Size([1, 422])\n",
      "loss: nan\n",
      "input shape: torch.Size([1, 489])\n"
     ]
    },
    {
     "name": "stderr",
     "output_type": "stream",
     "text": [
      "323it [00:50,  6.47it/s]"
     ]
    },
    {
     "name": "stdout",
     "output_type": "stream",
     "text": [
      "loss: nan\n",
      "input shape: torch.Size([1, 555])\n",
      "loss: nan\n",
      "input shape: torch.Size([1, 118])\n"
     ]
    },
    {
     "name": "stderr",
     "output_type": "stream",
     "text": [
      "325it [00:50,  6.50it/s]"
     ]
    },
    {
     "name": "stdout",
     "output_type": "stream",
     "text": [
      "loss: nan\n",
      "input shape: torch.Size([1, 445])\n",
      "loss: nan\n",
      "input shape: torch.Size([1, 226])\n"
     ]
    },
    {
     "name": "stderr",
     "output_type": "stream",
     "text": [
      "327it [00:50,  6.56it/s]"
     ]
    },
    {
     "name": "stdout",
     "output_type": "stream",
     "text": [
      "loss: nan\n",
      "input shape: torch.Size([1, 490])\n",
      "loss: nan\n",
      "input shape: torch.Size([1, 314])\n"
     ]
    },
    {
     "name": "stderr",
     "output_type": "stream",
     "text": [
      "329it [00:51,  6.79it/s]"
     ]
    },
    {
     "name": "stdout",
     "output_type": "stream",
     "text": [
      "loss: nan\n",
      "input shape: torch.Size([1, 345])\n",
      "loss: nan\n",
      "input shape: torch.Size([1, 326])\n"
     ]
    },
    {
     "name": "stderr",
     "output_type": "stream",
     "text": [
      "331it [00:51,  6.67it/s]"
     ]
    },
    {
     "name": "stdout",
     "output_type": "stream",
     "text": [
      "loss: nan\n",
      "input shape: torch.Size([1, 536])\n",
      "loss: nan\n",
      "input shape: torch.Size([1, 363])\n"
     ]
    },
    {
     "name": "stderr",
     "output_type": "stream",
     "text": [
      "333it [00:51,  6.75it/s]"
     ]
    },
    {
     "name": "stdout",
     "output_type": "stream",
     "text": [
      "loss: nan\n",
      "input shape: torch.Size([1, 205])\n",
      "loss: nan\n",
      "input shape: torch.Size([1, 282])\n"
     ]
    },
    {
     "name": "stderr",
     "output_type": "stream",
     "text": [
      "335it [00:52,  6.75it/s]"
     ]
    },
    {
     "name": "stdout",
     "output_type": "stream",
     "text": [
      "loss: nan\n",
      "input shape: torch.Size([1, 275])\n",
      "loss: nan\n",
      "input shape: torch.Size([1, 332])\n"
     ]
    },
    {
     "name": "stderr",
     "output_type": "stream",
     "text": [
      "337it [00:52,  6.81it/s]"
     ]
    },
    {
     "name": "stdout",
     "output_type": "stream",
     "text": [
      "loss: nan\n",
      "input shape: torch.Size([1, 197])\n",
      "loss: nan\n",
      "input shape: torch.Size([1, 171])\n"
     ]
    },
    {
     "name": "stderr",
     "output_type": "stream",
     "text": [
      "339it [00:52,  6.67it/s]"
     ]
    },
    {
     "name": "stdout",
     "output_type": "stream",
     "text": [
      "loss: nan\n",
      "input shape: torch.Size([1, 155])\n",
      "loss: nan\n",
      "input shape: torch.Size([1, 192])\n"
     ]
    },
    {
     "name": "stderr",
     "output_type": "stream",
     "text": [
      "341it [00:53,  6.70it/s]"
     ]
    },
    {
     "name": "stdout",
     "output_type": "stream",
     "text": [
      "loss: nan\n",
      "input shape: torch.Size([1, 237])\n",
      "loss: nan\n",
      "input shape: torch.Size([1, 109])\n"
     ]
    },
    {
     "name": "stderr",
     "output_type": "stream",
     "text": [
      "343it [00:53,  6.67it/s]"
     ]
    },
    {
     "name": "stdout",
     "output_type": "stream",
     "text": [
      "loss: nan\n",
      "input shape: torch.Size([1, 158])\n",
      "loss: nan\n",
      "input shape: torch.Size([1, 231])\n"
     ]
    },
    {
     "name": "stderr",
     "output_type": "stream",
     "text": [
      "345it [00:53,  6.75it/s]"
     ]
    },
    {
     "name": "stdout",
     "output_type": "stream",
     "text": [
      "loss: nan\n",
      "input shape: torch.Size([1, 290])\n",
      "loss: nan\n",
      "input shape: torch.Size([1, 475])\n"
     ]
    },
    {
     "name": "stderr",
     "output_type": "stream",
     "text": [
      "347it [00:53,  6.69it/s]"
     ]
    },
    {
     "name": "stdout",
     "output_type": "stream",
     "text": [
      "loss: nan\n",
      "input shape: torch.Size([1, 102])\n",
      "loss: nan\n",
      "input shape: torch.Size([1, 339])\n"
     ]
    },
    {
     "name": "stderr",
     "output_type": "stream",
     "text": [
      "349it [00:54,  6.66it/s]"
     ]
    },
    {
     "name": "stdout",
     "output_type": "stream",
     "text": [
      "loss: nan\n",
      "input shape: torch.Size([1, 326])\n",
      "loss: nan\n",
      "input shape: torch.Size([1, 234])\n"
     ]
    },
    {
     "name": "stderr",
     "output_type": "stream",
     "text": [
      "351it [00:54,  6.72it/s]"
     ]
    },
    {
     "name": "stdout",
     "output_type": "stream",
     "text": [
      "loss: nan\n",
      "input shape: torch.Size([1, 169])\n",
      "loss: nan\n",
      "input shape: torch.Size([1, 447])\n"
     ]
    },
    {
     "name": "stderr",
     "output_type": "stream",
     "text": [
      "353it [00:54,  6.18it/s]"
     ]
    },
    {
     "name": "stdout",
     "output_type": "stream",
     "text": [
      "loss: nan\n",
      "input shape: torch.Size([1, 710])\n",
      "loss: nan\n",
      "input shape: torch.Size([1, 192])\n"
     ]
    },
    {
     "name": "stderr",
     "output_type": "stream",
     "text": [
      "355it [00:55,  6.03it/s]"
     ]
    },
    {
     "name": "stdout",
     "output_type": "stream",
     "text": [
      "loss: nan\n",
      "input shape: torch.Size([1, 704])\n",
      "loss: nan\n",
      "input shape: torch.Size([1, 243])\n"
     ]
    },
    {
     "name": "stderr",
     "output_type": "stream",
     "text": [
      "357it [00:55,  6.21it/s]"
     ]
    },
    {
     "name": "stdout",
     "output_type": "stream",
     "text": [
      "loss: nan\n",
      "input shape: torch.Size([1, 478])\n",
      "loss: nan\n",
      "input shape: torch.Size([1, 429])\n"
     ]
    },
    {
     "name": "stderr",
     "output_type": "stream",
     "text": [
      "359it [00:55,  6.35it/s]"
     ]
    },
    {
     "name": "stdout",
     "output_type": "stream",
     "text": [
      "loss: nan\n",
      "input shape: torch.Size([1, 184])\n",
      "loss: nan\n",
      "input shape: torch.Size([1, 687])\n"
     ]
    },
    {
     "name": "stderr",
     "output_type": "stream",
     "text": [
      "361it [00:56,  6.24it/s]"
     ]
    },
    {
     "name": "stdout",
     "output_type": "stream",
     "text": [
      "loss: nan\n",
      "input shape: torch.Size([1, 203])\n",
      "loss: nan\n",
      "input shape: torch.Size([1, 339])\n"
     ]
    },
    {
     "name": "stderr",
     "output_type": "stream",
     "text": [
      "363it [00:56,  6.45it/s]"
     ]
    },
    {
     "name": "stdout",
     "output_type": "stream",
     "text": [
      "loss: nan\n",
      "input shape: torch.Size([1, 432])\n",
      "loss: nan\n",
      "input shape: torch.Size([1, 136])\n"
     ]
    },
    {
     "name": "stderr",
     "output_type": "stream",
     "text": [
      "365it [00:56,  6.59it/s]"
     ]
    },
    {
     "name": "stdout",
     "output_type": "stream",
     "text": [
      "loss: nan\n",
      "input shape: torch.Size([1, 329])\n",
      "loss: nan\n",
      "input shape: torch.Size([1, 614])\n"
     ]
    },
    {
     "name": "stderr",
     "output_type": "stream",
     "text": [
      "367it [00:57,  6.54it/s]"
     ]
    },
    {
     "name": "stdout",
     "output_type": "stream",
     "text": [
      "loss: nan\n",
      "input shape: torch.Size([1, 268])\n",
      "loss: nan\n",
      "input shape: torch.Size([1, 457])\n"
     ]
    },
    {
     "name": "stderr",
     "output_type": "stream",
     "text": [
      "369it [00:57,  6.66it/s]"
     ]
    },
    {
     "name": "stdout",
     "output_type": "stream",
     "text": [
      "loss: nan\n",
      "input shape: torch.Size([1, 370])\n",
      "loss: nan\n",
      "input shape: torch.Size([1, 62])\n"
     ]
    },
    {
     "name": "stderr",
     "output_type": "stream",
     "text": [
      "371it [00:57,  6.63it/s]"
     ]
    },
    {
     "name": "stdout",
     "output_type": "stream",
     "text": [
      "loss: nan\n",
      "input shape: torch.Size([1, 557])\n",
      "loss: nan\n",
      "input shape: torch.Size([1, 134])\n"
     ]
    },
    {
     "name": "stderr",
     "output_type": "stream",
     "text": [
      "373it [00:57,  6.94it/s]"
     ]
    },
    {
     "name": "stdout",
     "output_type": "stream",
     "text": [
      "loss: nan\n",
      "input shape: torch.Size([1, 107])\n",
      "loss: nan\n",
      "input shape: torch.Size([1, 327])\n"
     ]
    },
    {
     "name": "stderr",
     "output_type": "stream",
     "text": [
      "375it [00:58,  7.02it/s]"
     ]
    },
    {
     "name": "stdout",
     "output_type": "stream",
     "text": [
      "loss: nan\n",
      "input shape: torch.Size([1, 326])\n",
      "loss: nan\n",
      "input shape: torch.Size([1, 257])\n"
     ]
    },
    {
     "name": "stderr",
     "output_type": "stream",
     "text": [
      "377it [00:58,  7.04it/s]"
     ]
    },
    {
     "name": "stdout",
     "output_type": "stream",
     "text": [
      "loss: nan\n",
      "input shape: torch.Size([1, 36])\n",
      "loss: nan\n",
      "input shape: torch.Size([1, 267])\n"
     ]
    },
    {
     "name": "stderr",
     "output_type": "stream",
     "text": [
      "379it [00:58,  6.90it/s]"
     ]
    },
    {
     "name": "stdout",
     "output_type": "stream",
     "text": [
      "loss: nan\n",
      "input shape: torch.Size([1, 410])\n",
      "loss: nan\n",
      "input shape: torch.Size([1, 267])\n"
     ]
    },
    {
     "name": "stderr",
     "output_type": "stream",
     "text": [
      "381it [00:59,  7.00it/s]"
     ]
    },
    {
     "name": "stdout",
     "output_type": "stream",
     "text": [
      "loss: nan\n",
      "input shape: torch.Size([1, 130])\n",
      "loss: nan\n",
      "input shape: torch.Size([1, 238])\n"
     ]
    },
    {
     "name": "stderr",
     "output_type": "stream",
     "text": [
      "383it [00:59,  6.76it/s]"
     ]
    },
    {
     "name": "stdout",
     "output_type": "stream",
     "text": [
      "loss: nan\n",
      "input shape: torch.Size([1, 556])\n",
      "loss: nan\n",
      "input shape: torch.Size([1, 84])\n"
     ]
    },
    {
     "name": "stderr",
     "output_type": "stream",
     "text": [
      "385it [00:59,  6.35it/s]"
     ]
    },
    {
     "name": "stdout",
     "output_type": "stream",
     "text": [
      "loss: nan\n",
      "input shape: torch.Size([1, 687])\n",
      "loss: nan\n",
      "input shape: torch.Size([1, 381])\n"
     ]
    },
    {
     "name": "stderr",
     "output_type": "stream",
     "text": [
      "387it [00:59,  6.71it/s]"
     ]
    },
    {
     "name": "stdout",
     "output_type": "stream",
     "text": [
      "loss: nan\n",
      "input shape: torch.Size([1, 205])\n",
      "loss: nan\n",
      "input shape: torch.Size([1, 451])\n"
     ]
    },
    {
     "name": "stderr",
     "output_type": "stream",
     "text": [
      "389it [01:00,  6.48it/s]"
     ]
    },
    {
     "name": "stdout",
     "output_type": "stream",
     "text": [
      "loss: nan\n",
      "input shape: torch.Size([1, 573])\n",
      "loss: nan\n",
      "input shape: torch.Size([1, 515])\n"
     ]
    },
    {
     "name": "stderr",
     "output_type": "stream",
     "text": [
      "391it [01:00,  6.41it/s]"
     ]
    },
    {
     "name": "stdout",
     "output_type": "stream",
     "text": [
      "loss: nan\n",
      "input shape: torch.Size([1, 511])\n",
      "loss: nan\n",
      "input shape: torch.Size([1, 380])\n"
     ]
    },
    {
     "name": "stderr",
     "output_type": "stream",
     "text": [
      "393it [01:00,  6.49it/s]"
     ]
    },
    {
     "name": "stdout",
     "output_type": "stream",
     "text": [
      "loss: nan\n",
      "input shape: torch.Size([1, 508])\n",
      "loss: nan\n",
      "input shape: torch.Size([1, 291])\n"
     ]
    },
    {
     "name": "stderr",
     "output_type": "stream",
     "text": [
      "395it [01:01,  6.53it/s]"
     ]
    },
    {
     "name": "stdout",
     "output_type": "stream",
     "text": [
      "loss: nan\n",
      "input shape: torch.Size([1, 542])\n",
      "loss: nan\n",
      "input shape: torch.Size([1, 237])\n"
     ]
    },
    {
     "name": "stderr",
     "output_type": "stream",
     "text": [
      "397it [01:01,  6.87it/s]"
     ]
    },
    {
     "name": "stdout",
     "output_type": "stream",
     "text": [
      "loss: nan\n",
      "input shape: torch.Size([1, 134])\n",
      "loss: nan\n",
      "input shape: torch.Size([1, 145])\n"
     ]
    },
    {
     "name": "stderr",
     "output_type": "stream",
     "text": [
      "399it [01:01,  7.03it/s]"
     ]
    },
    {
     "name": "stdout",
     "output_type": "stream",
     "text": [
      "loss: nan\n",
      "input shape: torch.Size([1, 319])\n",
      "loss: nan\n",
      "input shape: torch.Size([1, 295])\n"
     ]
    },
    {
     "name": "stderr",
     "output_type": "stream",
     "text": [
      "401it [01:02,  6.72it/s]"
     ]
    },
    {
     "name": "stdout",
     "output_type": "stream",
     "text": [
      "loss: nan\n",
      "input shape: torch.Size([1, 476])\n",
      "loss: nan\n",
      "input shape: torch.Size([1, 467])\n"
     ]
    },
    {
     "name": "stderr",
     "output_type": "stream",
     "text": [
      "403it [01:02,  6.81it/s]"
     ]
    },
    {
     "name": "stdout",
     "output_type": "stream",
     "text": [
      "loss: nan\n",
      "input shape: torch.Size([1, 200])\n",
      "loss: nan\n",
      "input shape: torch.Size([1, 236])\n"
     ]
    },
    {
     "name": "stderr",
     "output_type": "stream",
     "text": [
      "405it [01:02,  6.93it/s]"
     ]
    },
    {
     "name": "stdout",
     "output_type": "stream",
     "text": [
      "loss: nan\n",
      "input shape: torch.Size([1, 273])\n",
      "loss: nan\n",
      "input shape: torch.Size([1, 354])\n"
     ]
    },
    {
     "name": "stderr",
     "output_type": "stream",
     "text": [
      "407it [01:02,  7.05it/s]"
     ]
    },
    {
     "name": "stdout",
     "output_type": "stream",
     "text": [
      "loss: nan\n",
      "input shape: torch.Size([1, 213])\n",
      "loss: nan\n",
      "input shape: torch.Size([1, 192])\n"
     ]
    },
    {
     "name": "stderr",
     "output_type": "stream",
     "text": [
      "408it [01:03,  7.14it/s]"
     ]
    },
    {
     "name": "stdout",
     "output_type": "stream",
     "text": [
      "loss: nan\n",
      "input shape: torch.Size([1, 771])\n"
     ]
    },
    {
     "name": "stderr",
     "output_type": "stream",
     "text": [
      "410it [01:03,  6.39it/s]"
     ]
    },
    {
     "name": "stdout",
     "output_type": "stream",
     "text": [
      "loss: nan\n",
      "input shape: torch.Size([1, 194])\n",
      "loss: nan\n",
      "input shape: torch.Size([1, 224])\n"
     ]
    },
    {
     "name": "stderr",
     "output_type": "stream",
     "text": [
      "412it [01:03,  6.37it/s]"
     ]
    },
    {
     "name": "stdout",
     "output_type": "stream",
     "text": [
      "loss: nan\n",
      "input shape: torch.Size([1, 557])\n",
      "loss: nan\n",
      "input shape: torch.Size([1, 353])\n"
     ]
    },
    {
     "name": "stderr",
     "output_type": "stream",
     "text": [
      "414it [01:04,  6.44it/s]"
     ]
    },
    {
     "name": "stdout",
     "output_type": "stream",
     "text": [
      "loss: nan\n",
      "input shape: torch.Size([1, 438])\n",
      "loss: nan\n",
      "input shape: torch.Size([1, 443])\n"
     ]
    },
    {
     "name": "stderr",
     "output_type": "stream",
     "text": [
      "416it [01:04,  6.59it/s]"
     ]
    },
    {
     "name": "stdout",
     "output_type": "stream",
     "text": [
      "loss: nan\n",
      "input shape: torch.Size([1, 132])\n",
      "loss: nan\n",
      "input shape: torch.Size([1, 400])\n"
     ]
    },
    {
     "name": "stderr",
     "output_type": "stream",
     "text": [
      "418it [01:04,  6.75it/s]"
     ]
    },
    {
     "name": "stdout",
     "output_type": "stream",
     "text": [
      "loss: nan\n",
      "input shape: torch.Size([1, 276])\n",
      "loss: nan\n",
      "input shape: torch.Size([1, 115])\n"
     ]
    },
    {
     "name": "stderr",
     "output_type": "stream",
     "text": [
      "420it [01:04,  6.94it/s]"
     ]
    },
    {
     "name": "stdout",
     "output_type": "stream",
     "text": [
      "loss: nan\n",
      "input shape: torch.Size([1, 192])\n",
      "loss: nan\n",
      "input shape: torch.Size([1, 553])\n"
     ]
    },
    {
     "name": "stderr",
     "output_type": "stream",
     "text": [
      "422it [01:05,  6.88it/s]"
     ]
    },
    {
     "name": "stdout",
     "output_type": "stream",
     "text": [
      "loss: nan\n",
      "input shape: torch.Size([1, 242])\n",
      "loss: nan\n",
      "input shape: torch.Size([1, 127])\n"
     ]
    },
    {
     "name": "stderr",
     "output_type": "stream",
     "text": [
      "424it [01:05,  6.88it/s]"
     ]
    },
    {
     "name": "stdout",
     "output_type": "stream",
     "text": [
      "loss: nan\n",
      "input shape: torch.Size([1, 412])\n",
      "loss: nan\n",
      "input shape: torch.Size([1, 683])\n"
     ]
    },
    {
     "name": "stderr",
     "output_type": "stream",
     "text": [
      "426it [01:05,  6.34it/s]"
     ]
    },
    {
     "name": "stdout",
     "output_type": "stream",
     "text": [
      "loss: nan\n",
      "input shape: torch.Size([1, 535])\n",
      "loss: nan\n",
      "input shape: torch.Size([1, 307])\n"
     ]
    },
    {
     "name": "stderr",
     "output_type": "stream",
     "text": [
      "428it [01:06,  6.47it/s]"
     ]
    },
    {
     "name": "stdout",
     "output_type": "stream",
     "text": [
      "loss: nan\n",
      "input shape: torch.Size([1, 536])\n",
      "loss: nan\n",
      "input shape: torch.Size([1, 204])\n"
     ]
    },
    {
     "name": "stderr",
     "output_type": "stream",
     "text": [
      "430it [01:06,  6.80it/s]"
     ]
    },
    {
     "name": "stdout",
     "output_type": "stream",
     "text": [
      "loss: nan\n",
      "input shape: torch.Size([1, 382])\n",
      "loss: nan\n",
      "input shape: torch.Size([1, 166])\n"
     ]
    },
    {
     "name": "stderr",
     "output_type": "stream",
     "text": [
      "432it [01:06,  6.87it/s]"
     ]
    },
    {
     "name": "stdout",
     "output_type": "stream",
     "text": [
      "loss: nan\n",
      "input shape: torch.Size([1, 433])\n",
      "loss: nan\n",
      "input shape: torch.Size([1, 327])\n"
     ]
    },
    {
     "name": "stderr",
     "output_type": "stream",
     "text": [
      "434it [01:06,  6.72it/s]"
     ]
    },
    {
     "name": "stdout",
     "output_type": "stream",
     "text": [
      "loss: nan\n",
      "input shape: torch.Size([1, 570])\n",
      "loss: nan\n",
      "input shape: torch.Size([1, 627])\n"
     ]
    },
    {
     "name": "stderr",
     "output_type": "stream",
     "text": [
      "436it [01:07,  6.64it/s]"
     ]
    },
    {
     "name": "stdout",
     "output_type": "stream",
     "text": [
      "loss: nan\n",
      "input shape: torch.Size([1, 257])\n",
      "loss: nan\n",
      "input shape: torch.Size([1, 361])\n"
     ]
    },
    {
     "name": "stderr",
     "output_type": "stream",
     "text": [
      "438it [01:07,  6.81it/s]"
     ]
    },
    {
     "name": "stdout",
     "output_type": "stream",
     "text": [
      "loss: nan\n",
      "input shape: torch.Size([1, 416])\n",
      "loss: nan\n",
      "input shape: torch.Size([1, 224])\n"
     ]
    },
    {
     "name": "stderr",
     "output_type": "stream",
     "text": [
      "440it [01:07,  6.99it/s]"
     ]
    },
    {
     "name": "stdout",
     "output_type": "stream",
     "text": [
      "loss: nan\n",
      "input shape: torch.Size([1, 168])\n",
      "loss: nan\n",
      "input shape: torch.Size([1, 147])\n"
     ]
    },
    {
     "name": "stderr",
     "output_type": "stream",
     "text": [
      "442it [01:08,  7.03it/s]"
     ]
    },
    {
     "name": "stdout",
     "output_type": "stream",
     "text": [
      "loss: nan\n",
      "input shape: torch.Size([1, 258])\n",
      "loss: nan\n",
      "input shape: torch.Size([1, 504])\n"
     ]
    },
    {
     "name": "stderr",
     "output_type": "stream",
     "text": [
      "444it [01:08,  6.84it/s]"
     ]
    },
    {
     "name": "stdout",
     "output_type": "stream",
     "text": [
      "loss: nan\n",
      "input shape: torch.Size([1, 303])\n",
      "loss: nan\n",
      "input shape: torch.Size([1, 657])\n"
     ]
    },
    {
     "name": "stderr",
     "output_type": "stream",
     "text": [
      "446it [01:08,  6.56it/s]"
     ]
    },
    {
     "name": "stdout",
     "output_type": "stream",
     "text": [
      "loss: nan\n",
      "input shape: torch.Size([1, 332])\n",
      "loss: nan\n",
      "input shape: torch.Size([1, 434])\n"
     ]
    },
    {
     "name": "stderr",
     "output_type": "stream",
     "text": [
      "448it [01:09,  6.50it/s]"
     ]
    },
    {
     "name": "stdout",
     "output_type": "stream",
     "text": [
      "loss: nan\n",
      "input shape: torch.Size([1, 542])\n",
      "loss: nan\n",
      "input shape: torch.Size([1, 543])\n"
     ]
    },
    {
     "name": "stderr",
     "output_type": "stream",
     "text": [
      "450it [01:09,  6.58it/s]"
     ]
    },
    {
     "name": "stdout",
     "output_type": "stream",
     "text": [
      "loss: nan\n",
      "input shape: torch.Size([1, 346])\n",
      "loss: nan\n",
      "input shape: torch.Size([1, 333])\n"
     ]
    },
    {
     "name": "stderr",
     "output_type": "stream",
     "text": [
      "452it [01:09,  6.72it/s]"
     ]
    },
    {
     "name": "stdout",
     "output_type": "stream",
     "text": [
      "loss: nan\n",
      "input shape: torch.Size([1, 358])\n",
      "loss: nan\n",
      "input shape: torch.Size([1, 239])\n"
     ]
    },
    {
     "name": "stderr",
     "output_type": "stream",
     "text": [
      "454it [01:09,  7.01it/s]"
     ]
    },
    {
     "name": "stdout",
     "output_type": "stream",
     "text": [
      "loss: nan\n",
      "input shape: torch.Size([1, 325])\n",
      "loss: nan\n",
      "input shape: torch.Size([1, 545])\n"
     ]
    },
    {
     "name": "stderr",
     "output_type": "stream",
     "text": [
      "456it [01:10,  6.53it/s]"
     ]
    },
    {
     "name": "stdout",
     "output_type": "stream",
     "text": [
      "loss: nan\n",
      "input shape: torch.Size([1, 594])\n",
      "loss: nan\n",
      "input shape: torch.Size([1, 233])\n"
     ]
    },
    {
     "name": "stderr",
     "output_type": "stream",
     "text": [
      "458it [01:10,  6.85it/s]"
     ]
    },
    {
     "name": "stdout",
     "output_type": "stream",
     "text": [
      "loss: nan\n",
      "input shape: torch.Size([1, 218])\n",
      "loss: nan\n",
      "input shape: torch.Size([1, 192])\n"
     ]
    },
    {
     "name": "stderr",
     "output_type": "stream",
     "text": [
      "460it [01:10,  6.96it/s]"
     ]
    },
    {
     "name": "stdout",
     "output_type": "stream",
     "text": [
      "loss: nan\n",
      "input shape: torch.Size([1, 189])\n",
      "loss: nan\n",
      "input shape: torch.Size([1, 218])\n"
     ]
    },
    {
     "name": "stderr",
     "output_type": "stream",
     "text": [
      "462it [01:11,  7.09it/s]"
     ]
    },
    {
     "name": "stdout",
     "output_type": "stream",
     "text": [
      "loss: nan\n",
      "input shape: torch.Size([1, 232])\n",
      "loss: nan\n",
      "input shape: torch.Size([1, 355])\n"
     ]
    },
    {
     "name": "stderr",
     "output_type": "stream",
     "text": [
      "464it [01:11,  6.81it/s]"
     ]
    },
    {
     "name": "stdout",
     "output_type": "stream",
     "text": [
      "loss: nan\n",
      "input shape: torch.Size([1, 515])\n",
      "loss: nan\n",
      "input shape: torch.Size([1, 333])\n"
     ]
    },
    {
     "name": "stderr",
     "output_type": "stream",
     "text": [
      "466it [01:11,  7.01it/s]"
     ]
    },
    {
     "name": "stdout",
     "output_type": "stream",
     "text": [
      "loss: nan\n",
      "input shape: torch.Size([1, 249])\n",
      "loss: nan\n",
      "input shape: torch.Size([1, 328])\n"
     ]
    },
    {
     "name": "stderr",
     "output_type": "stream",
     "text": [
      "468it [01:11,  7.15it/s]"
     ]
    },
    {
     "name": "stdout",
     "output_type": "stream",
     "text": [
      "loss: nan\n",
      "input shape: torch.Size([1, 184])\n",
      "loss: nan\n",
      "input shape: torch.Size([1, 200])\n"
     ]
    },
    {
     "name": "stderr",
     "output_type": "stream",
     "text": [
      "470it [01:12,  7.15it/s]"
     ]
    },
    {
     "name": "stdout",
     "output_type": "stream",
     "text": [
      "loss: nan\n",
      "input shape: torch.Size([1, 223])\n",
      "loss: nan\n",
      "input shape: torch.Size([1, 466])\n"
     ]
    },
    {
     "name": "stderr",
     "output_type": "stream",
     "text": [
      "472it [01:12,  7.01it/s]"
     ]
    },
    {
     "name": "stdout",
     "output_type": "stream",
     "text": [
      "loss: nan\n",
      "input shape: torch.Size([1, 309])\n",
      "loss: nan\n",
      "input shape: torch.Size([1, 193])\n"
     ]
    },
    {
     "name": "stderr",
     "output_type": "stream",
     "text": [
      "474it [01:12,  7.08it/s]"
     ]
    },
    {
     "name": "stdout",
     "output_type": "stream",
     "text": [
      "loss: nan\n",
      "input shape: torch.Size([1, 269])\n",
      "loss: nan\n",
      "input shape: torch.Size([1, 498])\n"
     ]
    },
    {
     "name": "stderr",
     "output_type": "stream",
     "text": [
      "476it [01:13,  6.84it/s]"
     ]
    },
    {
     "name": "stdout",
     "output_type": "stream",
     "text": [
      "loss: nan\n",
      "input shape: torch.Size([1, 322])\n",
      "loss: nan\n",
      "input shape: torch.Size([1, 279])\n"
     ]
    },
    {
     "name": "stderr",
     "output_type": "stream",
     "text": [
      "478it [01:13,  6.94it/s]"
     ]
    },
    {
     "name": "stdout",
     "output_type": "stream",
     "text": [
      "loss: nan\n",
      "input shape: torch.Size([1, 261])\n",
      "loss: nan\n",
      "input shape: torch.Size([1, 215])\n"
     ]
    },
    {
     "name": "stderr",
     "output_type": "stream",
     "text": [
      "480it [01:13,  6.89it/s]"
     ]
    },
    {
     "name": "stdout",
     "output_type": "stream",
     "text": [
      "loss: nan\n",
      "input shape: torch.Size([1, 241])\n",
      "loss: nan\n",
      "input shape: torch.Size([1, 173])\n"
     ]
    },
    {
     "name": "stderr",
     "output_type": "stream",
     "text": [
      "482it [01:14,  6.84it/s]"
     ]
    },
    {
     "name": "stdout",
     "output_type": "stream",
     "text": [
      "loss: nan\n",
      "input shape: torch.Size([1, 384])\n",
      "loss: nan\n",
      "input shape: torch.Size([1, 127])\n"
     ]
    },
    {
     "name": "stderr",
     "output_type": "stream",
     "text": [
      "484it [01:14,  6.71it/s]"
     ]
    },
    {
     "name": "stdout",
     "output_type": "stream",
     "text": [
      "loss: nan\n",
      "input shape: torch.Size([1, 437])\n",
      "loss: nan\n",
      "input shape: torch.Size([1, 253])\n"
     ]
    },
    {
     "name": "stderr",
     "output_type": "stream",
     "text": [
      "486it [01:14,  6.45it/s]"
     ]
    },
    {
     "name": "stdout",
     "output_type": "stream",
     "text": [
      "loss: nan\n",
      "input shape: torch.Size([1, 593])\n",
      "loss: nan\n",
      "input shape: torch.Size([1, 309])\n"
     ]
    },
    {
     "name": "stderr",
     "output_type": "stream",
     "text": [
      "488it [01:14,  6.41it/s]"
     ]
    },
    {
     "name": "stdout",
     "output_type": "stream",
     "text": [
      "loss: nan\n",
      "input shape: torch.Size([1, 466])\n",
      "loss: nan\n",
      "input shape: torch.Size([1, 242])\n"
     ]
    },
    {
     "name": "stderr",
     "output_type": "stream",
     "text": [
      "490it [01:15,  6.63it/s]"
     ]
    },
    {
     "name": "stdout",
     "output_type": "stream",
     "text": [
      "loss: nan\n",
      "input shape: torch.Size([1, 148])\n",
      "loss: nan\n",
      "input shape: torch.Size([1, 350])\n"
     ]
    },
    {
     "name": "stderr",
     "output_type": "stream",
     "text": [
      "492it [01:15,  6.61it/s]"
     ]
    },
    {
     "name": "stdout",
     "output_type": "stream",
     "text": [
      "loss: nan\n",
      "input shape: torch.Size([1, 536])\n",
      "loss: nan\n",
      "input shape: torch.Size([1, 474])\n"
     ]
    },
    {
     "name": "stderr",
     "output_type": "stream",
     "text": [
      "494it [01:15,  6.64it/s]"
     ]
    },
    {
     "name": "stdout",
     "output_type": "stream",
     "text": [
      "loss: nan\n",
      "input shape: torch.Size([1, 371])\n",
      "loss: nan\n",
      "input shape: torch.Size([1, 618])\n"
     ]
    },
    {
     "name": "stderr",
     "output_type": "stream",
     "text": [
      "496it [01:16,  6.53it/s]"
     ]
    },
    {
     "name": "stdout",
     "output_type": "stream",
     "text": [
      "loss: nan\n",
      "input shape: torch.Size([1, 235])\n",
      "loss: nan\n",
      "input shape: torch.Size([1, 192])\n"
     ]
    },
    {
     "name": "stderr",
     "output_type": "stream",
     "text": [
      "498it [01:16,  6.67it/s]"
     ]
    },
    {
     "name": "stdout",
     "output_type": "stream",
     "text": [
      "loss: nan\n",
      "input shape: torch.Size([1, 401])\n",
      "loss: nan\n",
      "input shape: torch.Size([1, 344])\n"
     ]
    },
    {
     "name": "stderr",
     "output_type": "stream",
     "text": [
      "500it [01:16,  6.72it/s]"
     ]
    },
    {
     "name": "stdout",
     "output_type": "stream",
     "text": [
      "loss: nan\n",
      "input shape: torch.Size([1, 258])\n",
      "loss: nan\n",
      "input shape: torch.Size([1, 559])\n"
     ]
    },
    {
     "name": "stderr",
     "output_type": "stream",
     "text": [
      "502it [01:17,  6.68it/s]"
     ]
    },
    {
     "name": "stdout",
     "output_type": "stream",
     "text": [
      "loss: nan\n",
      "input shape: torch.Size([1, 350])\n",
      "loss: nan\n",
      "input shape: torch.Size([1, 390])\n"
     ]
    },
    {
     "name": "stderr",
     "output_type": "stream",
     "text": [
      "504it [01:17,  6.69it/s]"
     ]
    },
    {
     "name": "stdout",
     "output_type": "stream",
     "text": [
      "loss: nan\n",
      "input shape: torch.Size([1, 136])\n",
      "loss: nan\n",
      "input shape: torch.Size([1, 596])\n"
     ]
    },
    {
     "name": "stderr",
     "output_type": "stream",
     "text": [
      "506it [01:17,  6.52it/s]"
     ]
    },
    {
     "name": "stdout",
     "output_type": "stream",
     "text": [
      "loss: nan\n",
      "input shape: torch.Size([1, 469])\n",
      "loss: nan\n",
      "input shape: torch.Size([1, 283])\n"
     ]
    },
    {
     "name": "stderr",
     "output_type": "stream",
     "text": [
      "508it [01:17,  6.73it/s]"
     ]
    },
    {
     "name": "stdout",
     "output_type": "stream",
     "text": [
      "loss: nan\n",
      "input shape: torch.Size([1, 180])\n",
      "loss: nan\n",
      "input shape: torch.Size([1, 485])\n"
     ]
    },
    {
     "name": "stderr",
     "output_type": "stream",
     "text": [
      "510it [01:18,  6.67it/s]"
     ]
    },
    {
     "name": "stdout",
     "output_type": "stream",
     "text": [
      "loss: nan\n",
      "input shape: torch.Size([1, 412])\n",
      "loss: nan\n",
      "input shape: torch.Size([1, 261])\n"
     ]
    },
    {
     "name": "stderr",
     "output_type": "stream",
     "text": [
      "512it [01:18,  6.58it/s]"
     ]
    },
    {
     "name": "stdout",
     "output_type": "stream",
     "text": [
      "loss: nan\n",
      "input shape: torch.Size([1, 391])\n",
      "loss: nan\n",
      "input shape: torch.Size([1, 222])\n"
     ]
    },
    {
     "name": "stderr",
     "output_type": "stream",
     "text": [
      "514it [01:18,  6.51it/s]"
     ]
    },
    {
     "name": "stdout",
     "output_type": "stream",
     "text": [
      "loss: nan\n",
      "input shape: torch.Size([1, 590])\n",
      "loss: nan\n",
      "input shape: torch.Size([1, 249])\n"
     ]
    },
    {
     "name": "stderr",
     "output_type": "stream",
     "text": [
      "516it [01:19,  6.60it/s]"
     ]
    },
    {
     "name": "stdout",
     "output_type": "stream",
     "text": [
      "loss: nan\n",
      "input shape: torch.Size([1, 481])\n",
      "loss: nan\n",
      "input shape: torch.Size([1, 134])\n"
     ]
    },
    {
     "name": "stderr",
     "output_type": "stream",
     "text": [
      "518it [01:19,  6.60it/s]"
     ]
    },
    {
     "name": "stdout",
     "output_type": "stream",
     "text": [
      "loss: nan\n",
      "input shape: torch.Size([1, 452])\n",
      "loss: nan\n",
      "input shape: torch.Size([1, 485])\n"
     ]
    },
    {
     "name": "stderr",
     "output_type": "stream",
     "text": [
      "520it [01:19,  6.43it/s]"
     ]
    },
    {
     "name": "stdout",
     "output_type": "stream",
     "text": [
      "loss: nan\n",
      "input shape: torch.Size([1, 488])\n",
      "loss: nan\n",
      "input shape: torch.Size([1, 374])\n"
     ]
    },
    {
     "name": "stderr",
     "output_type": "stream",
     "text": [
      "522it [01:20,  6.43it/s]"
     ]
    },
    {
     "name": "stdout",
     "output_type": "stream",
     "text": [
      "loss: nan\n",
      "input shape: torch.Size([1, 574])\n",
      "loss: nan\n",
      "input shape: torch.Size([1, 595])\n"
     ]
    },
    {
     "name": "stderr",
     "output_type": "stream",
     "text": [
      "524it [01:20,  6.20it/s]"
     ]
    },
    {
     "name": "stdout",
     "output_type": "stream",
     "text": [
      "loss: nan\n",
      "input shape: torch.Size([1, 612])\n",
      "loss: nan\n",
      "input shape: torch.Size([1, 259])\n"
     ]
    },
    {
     "name": "stderr",
     "output_type": "stream",
     "text": [
      "526it [01:20,  6.47it/s]"
     ]
    },
    {
     "name": "stdout",
     "output_type": "stream",
     "text": [
      "loss: nan\n",
      "input shape: torch.Size([1, 245])\n",
      "loss: nan\n",
      "input shape: torch.Size([1, 368])\n"
     ]
    },
    {
     "name": "stderr",
     "output_type": "stream",
     "text": [
      "528it [01:21,  6.58it/s]"
     ]
    },
    {
     "name": "stdout",
     "output_type": "stream",
     "text": [
      "loss: nan\n",
      "input shape: torch.Size([1, 209])\n",
      "loss: nan\n",
      "input shape: torch.Size([1, 71])\n"
     ]
    },
    {
     "name": "stderr",
     "output_type": "stream",
     "text": [
      "530it [01:21,  6.62it/s]"
     ]
    },
    {
     "name": "stdout",
     "output_type": "stream",
     "text": [
      "loss: nan\n",
      "input shape: torch.Size([1, 377])\n",
      "loss: nan\n",
      "input shape: torch.Size([1, 208])\n"
     ]
    },
    {
     "name": "stderr",
     "output_type": "stream",
     "text": [
      "532it [01:21,  6.62it/s]"
     ]
    },
    {
     "name": "stdout",
     "output_type": "stream",
     "text": [
      "loss: nan\n",
      "input shape: torch.Size([1, 413])\n",
      "loss: nan\n",
      "input shape: torch.Size([1, 152])\n"
     ]
    },
    {
     "name": "stderr",
     "output_type": "stream",
     "text": [
      "534it [01:21,  6.69it/s]"
     ]
    },
    {
     "name": "stdout",
     "output_type": "stream",
     "text": [
      "loss: nan\n",
      "input shape: torch.Size([1, 189])\n",
      "loss: nan\n",
      "input shape: torch.Size([1, 423])\n"
     ]
    },
    {
     "name": "stderr",
     "output_type": "stream",
     "text": [
      "536it [01:22,  6.73it/s]"
     ]
    },
    {
     "name": "stdout",
     "output_type": "stream",
     "text": [
      "loss: nan\n",
      "input shape: torch.Size([1, 325])\n",
      "loss: nan\n",
      "input shape: torch.Size([1, 199])\n"
     ]
    },
    {
     "name": "stderr",
     "output_type": "stream",
     "text": [
      "538it [01:22,  6.78it/s]"
     ]
    },
    {
     "name": "stdout",
     "output_type": "stream",
     "text": [
      "loss: nan\n",
      "input shape: torch.Size([1, 243])\n",
      "loss: nan\n",
      "input shape: torch.Size([1, 614])\n"
     ]
    },
    {
     "name": "stderr",
     "output_type": "stream",
     "text": [
      "540it [01:22,  6.38it/s]"
     ]
    },
    {
     "name": "stdout",
     "output_type": "stream",
     "text": [
      "loss: nan\n",
      "input shape: torch.Size([1, 543])\n",
      "loss: nan\n",
      "input shape: torch.Size([1, 470])\n"
     ]
    },
    {
     "name": "stderr",
     "output_type": "stream",
     "text": [
      "542it [01:23,  6.25it/s]"
     ]
    },
    {
     "name": "stdout",
     "output_type": "stream",
     "text": [
      "loss: nan\n",
      "input shape: torch.Size([1, 489])\n",
      "loss: nan\n",
      "input shape: torch.Size([1, 686])\n"
     ]
    },
    {
     "name": "stderr",
     "output_type": "stream",
     "text": [
      "544it [01:23,  6.02it/s]"
     ]
    },
    {
     "name": "stdout",
     "output_type": "stream",
     "text": [
      "loss: nan\n",
      "input shape: torch.Size([1, 545])\n",
      "loss: nan\n",
      "input shape: torch.Size([1, 493])\n"
     ]
    },
    {
     "name": "stderr",
     "output_type": "stream",
     "text": [
      "546it [01:23,  6.19it/s]"
     ]
    },
    {
     "name": "stdout",
     "output_type": "stream",
     "text": [
      "loss: nan\n",
      "input shape: torch.Size([1, 419])\n",
      "loss: nan\n",
      "input shape: torch.Size([1, 269])\n"
     ]
    },
    {
     "name": "stderr",
     "output_type": "stream",
     "text": [
      "548it [01:24,  6.48it/s]"
     ]
    },
    {
     "name": "stdout",
     "output_type": "stream",
     "text": [
      "loss: nan\n",
      "input shape: torch.Size([1, 132])\n",
      "loss: nan\n",
      "input shape: torch.Size([1, 303])\n"
     ]
    },
    {
     "name": "stderr",
     "output_type": "stream",
     "text": [
      "550it [01:24,  6.59it/s]"
     ]
    },
    {
     "name": "stdout",
     "output_type": "stream",
     "text": [
      "loss: nan\n",
      "input shape: torch.Size([1, 448])\n",
      "loss: nan\n",
      "input shape: torch.Size([1, 249])\n"
     ]
    },
    {
     "name": "stderr",
     "output_type": "stream",
     "text": [
      "552it [01:24,  6.66it/s]"
     ]
    },
    {
     "name": "stdout",
     "output_type": "stream",
     "text": [
      "loss: nan\n",
      "input shape: torch.Size([1, 60])\n",
      "loss: nan\n",
      "input shape: torch.Size([1, 255])\n"
     ]
    },
    {
     "name": "stderr",
     "output_type": "stream",
     "text": [
      "554it [01:25,  6.69it/s]"
     ]
    },
    {
     "name": "stdout",
     "output_type": "stream",
     "text": [
      "loss: nan\n",
      "input shape: torch.Size([1, 220])\n",
      "loss: nan\n",
      "input shape: torch.Size([1, 191])\n"
     ]
    },
    {
     "name": "stderr",
     "output_type": "stream",
     "text": [
      "556it [01:25,  6.68it/s]"
     ]
    },
    {
     "name": "stdout",
     "output_type": "stream",
     "text": [
      "loss: nan\n",
      "input shape: torch.Size([1, 424])\n",
      "loss: nan\n",
      "input shape: torch.Size([1, 285])\n"
     ]
    },
    {
     "name": "stderr",
     "output_type": "stream",
     "text": [
      "558it [01:25,  6.66it/s]"
     ]
    },
    {
     "name": "stdout",
     "output_type": "stream",
     "text": [
      "loss: nan\n",
      "input shape: torch.Size([1, 410])\n",
      "loss: nan\n",
      "input shape: torch.Size([1, 211])\n"
     ]
    },
    {
     "name": "stderr",
     "output_type": "stream",
     "text": [
      "560it [01:25,  6.66it/s]"
     ]
    },
    {
     "name": "stdout",
     "output_type": "stream",
     "text": [
      "loss: nan\n",
      "input shape: torch.Size([1, 273])\n",
      "loss: nan\n",
      "input shape: torch.Size([1, 212])\n"
     ]
    },
    {
     "name": "stderr",
     "output_type": "stream",
     "text": [
      "562it [01:26,  6.63it/s]"
     ]
    },
    {
     "name": "stdout",
     "output_type": "stream",
     "text": [
      "loss: nan\n",
      "input shape: torch.Size([1, 457])\n",
      "loss: nan\n",
      "input shape: torch.Size([1, 490])\n"
     ]
    },
    {
     "name": "stderr",
     "output_type": "stream",
     "text": [
      "564it [01:26,  6.51it/s]"
     ]
    },
    {
     "name": "stdout",
     "output_type": "stream",
     "text": [
      "loss: nan\n",
      "input shape: torch.Size([1, 295])\n",
      "loss: nan\n",
      "input shape: torch.Size([1, 566])\n"
     ]
    },
    {
     "name": "stderr",
     "output_type": "stream",
     "text": [
      "566it [01:26,  6.39it/s]"
     ]
    },
    {
     "name": "stdout",
     "output_type": "stream",
     "text": [
      "loss: nan\n",
      "input shape: torch.Size([1, 200])\n",
      "loss: nan\n",
      "input shape: torch.Size([1, 442])\n"
     ]
    },
    {
     "name": "stderr",
     "output_type": "stream",
     "text": [
      "568it [01:27,  6.41it/s]"
     ]
    },
    {
     "name": "stdout",
     "output_type": "stream",
     "text": [
      "loss: nan\n",
      "input shape: torch.Size([1, 184])\n",
      "loss: nan\n",
      "input shape: torch.Size([1, 364])\n"
     ]
    },
    {
     "name": "stderr",
     "output_type": "stream",
     "text": [
      "570it [01:27,  6.46it/s]"
     ]
    },
    {
     "name": "stdout",
     "output_type": "stream",
     "text": [
      "loss: nan\n",
      "input shape: torch.Size([1, 332])\n",
      "loss: nan\n",
      "input shape: torch.Size([1, 486])\n"
     ]
    },
    {
     "name": "stderr",
     "output_type": "stream",
     "text": [
      "572it [01:27,  6.44it/s]"
     ]
    },
    {
     "name": "stdout",
     "output_type": "stream",
     "text": [
      "loss: nan\n",
      "input shape: torch.Size([1, 158])\n",
      "loss: nan\n",
      "input shape: torch.Size([1, 300])\n"
     ]
    },
    {
     "name": "stderr",
     "output_type": "stream",
     "text": [
      "574it [01:28,  6.52it/s]"
     ]
    },
    {
     "name": "stdout",
     "output_type": "stream",
     "text": [
      "loss: nan\n",
      "input shape: torch.Size([1, 256])\n",
      "loss: nan\n",
      "input shape: torch.Size([1, 130])\n"
     ]
    },
    {
     "name": "stderr",
     "output_type": "stream",
     "text": [
      "576it [01:28,  6.51it/s]"
     ]
    },
    {
     "name": "stdout",
     "output_type": "stream",
     "text": [
      "loss: nan\n",
      "input shape: torch.Size([1, 410])\n",
      "loss: nan\n",
      "input shape: torch.Size([1, 348])\n"
     ]
    },
    {
     "name": "stderr",
     "output_type": "stream",
     "text": [
      "578it [01:28,  6.36it/s]"
     ]
    },
    {
     "name": "stdout",
     "output_type": "stream",
     "text": [
      "loss: nan\n",
      "input shape: torch.Size([1, 588])\n",
      "loss: nan\n",
      "input shape: torch.Size([1, 859])\n"
     ]
    },
    {
     "name": "stderr",
     "output_type": "stream",
     "text": [
      "580it [01:29,  5.99it/s]"
     ]
    },
    {
     "name": "stdout",
     "output_type": "stream",
     "text": [
      "loss: nan\n",
      "input shape: torch.Size([1, 166])\n",
      "loss: nan\n",
      "input shape: torch.Size([1, 566])\n"
     ]
    },
    {
     "name": "stderr",
     "output_type": "stream",
     "text": [
      "582it [01:29,  6.20it/s]"
     ]
    },
    {
     "name": "stdout",
     "output_type": "stream",
     "text": [
      "loss: nan\n",
      "input shape: torch.Size([1, 251])\n",
      "loss: nan\n",
      "input shape: torch.Size([1, 353])\n"
     ]
    },
    {
     "name": "stderr",
     "output_type": "stream",
     "text": [
      "584it [01:29,  6.29it/s]"
     ]
    },
    {
     "name": "stdout",
     "output_type": "stream",
     "text": [
      "loss: nan\n",
      "input shape: torch.Size([1, 337])\n",
      "loss: nan\n",
      "input shape: torch.Size([1, 304])\n"
     ]
    },
    {
     "name": "stderr",
     "output_type": "stream",
     "text": [
      "586it [01:30,  6.20it/s]"
     ]
    },
    {
     "name": "stdout",
     "output_type": "stream",
     "text": [
      "loss: nan\n",
      "input shape: torch.Size([1, 516])\n",
      "loss: nan\n",
      "input shape: torch.Size([1, 121])\n"
     ]
    },
    {
     "name": "stderr",
     "output_type": "stream",
     "text": [
      "588it [01:30,  6.28it/s]"
     ]
    },
    {
     "name": "stdout",
     "output_type": "stream",
     "text": [
      "loss: nan\n",
      "input shape: torch.Size([1, 416])\n",
      "loss: nan\n",
      "input shape: torch.Size([1, 313])\n"
     ]
    },
    {
     "name": "stderr",
     "output_type": "stream",
     "text": [
      "590it [01:30,  6.18it/s]"
     ]
    },
    {
     "name": "stdout",
     "output_type": "stream",
     "text": [
      "loss: nan\n",
      "input shape: torch.Size([1, 615])\n",
      "loss: nan\n",
      "input shape: torch.Size([1, 229])\n"
     ]
    },
    {
     "name": "stderr",
     "output_type": "stream",
     "text": [
      "592it [01:30,  6.20it/s]"
     ]
    },
    {
     "name": "stdout",
     "output_type": "stream",
     "text": [
      "loss: nan\n",
      "input shape: torch.Size([1, 230])\n",
      "loss: nan\n",
      "input shape: torch.Size([1, 472])\n"
     ]
    },
    {
     "name": "stderr",
     "output_type": "stream",
     "text": [
      "592it [01:31,  6.50it/s]\n"
     ]
    },
    {
     "ename": "KeyboardInterrupt",
     "evalue": "",
     "output_type": "error",
     "traceback": [
      "\u001b[0;31m---------------------------------------------------------------------------\u001b[0m",
      "\u001b[0;31mKeyboardInterrupt\u001b[0m                         Traceback (most recent call last)",
      "Cell \u001b[0;32mIn[11], line 24\u001b[0m\n\u001b[1;32m     21\u001b[0m logits \u001b[38;5;241m=\u001b[39m output\u001b[38;5;241m.\u001b[39mlogits[:, \u001b[38;5;241m-\u001b[39m\u001b[38;5;241m1\u001b[39m, :]\n\u001b[1;32m     23\u001b[0m loss \u001b[38;5;241m=\u001b[39m loss_fn(logits, label)\n\u001b[0;32m---> 24\u001b[0m loss\u001b[38;5;241m.\u001b[39mbackward()\n\u001b[1;32m     25\u001b[0m optimizer\u001b[38;5;241m.\u001b[39mstep()\n\u001b[1;32m     27\u001b[0m step \u001b[38;5;241m+\u001b[39m\u001b[38;5;241m=\u001b[39m \u001b[38;5;241m1\u001b[39m\n",
      "File \u001b[0;32m~/anaconda3/envs/backpack/lib/python3.11/site-packages/torch/_tensor.py:522\u001b[0m, in \u001b[0;36mTensor.backward\u001b[0;34m(self, gradient, retain_graph, create_graph, inputs)\u001b[0m\n\u001b[1;32m    512\u001b[0m \u001b[39mif\u001b[39;00m has_torch_function_unary(\u001b[39mself\u001b[39m):\n\u001b[1;32m    513\u001b[0m     \u001b[39mreturn\u001b[39;00m handle_torch_function(\n\u001b[1;32m    514\u001b[0m         Tensor\u001b[39m.\u001b[39mbackward,\n\u001b[1;32m    515\u001b[0m         (\u001b[39mself\u001b[39m,),\n\u001b[0;32m   (...)\u001b[0m\n\u001b[1;32m    520\u001b[0m         inputs\u001b[39m=\u001b[39minputs,\n\u001b[1;32m    521\u001b[0m     )\n\u001b[0;32m--> 522\u001b[0m torch\u001b[39m.\u001b[39mautograd\u001b[39m.\u001b[39mbackward(\n\u001b[1;32m    523\u001b[0m     \u001b[39mself\u001b[39m, gradient, retain_graph, create_graph, inputs\u001b[39m=\u001b[39minputs\n\u001b[1;32m    524\u001b[0m )\n",
      "File \u001b[0;32m~/anaconda3/envs/backpack/lib/python3.11/site-packages/torch/autograd/__init__.py:266\u001b[0m, in \u001b[0;36mbackward\u001b[0;34m(tensors, grad_tensors, retain_graph, create_graph, grad_variables, inputs)\u001b[0m\n\u001b[1;32m    261\u001b[0m     retain_graph \u001b[39m=\u001b[39m create_graph\n\u001b[1;32m    263\u001b[0m \u001b[39m# The reason we repeat the same comment below is that\u001b[39;00m\n\u001b[1;32m    264\u001b[0m \u001b[39m# some Python versions print out the first line of a multi-line function\u001b[39;00m\n\u001b[1;32m    265\u001b[0m \u001b[39m# calls in the traceback and some print out the last line\u001b[39;00m\n\u001b[0;32m--> 266\u001b[0m Variable\u001b[39m.\u001b[39m_execution_engine\u001b[39m.\u001b[39mrun_backward(  \u001b[39m# Calls into the C++ engine to run the backward pass\u001b[39;00m\n\u001b[1;32m    267\u001b[0m     tensors,\n\u001b[1;32m    268\u001b[0m     grad_tensors_,\n\u001b[1;32m    269\u001b[0m     retain_graph,\n\u001b[1;32m    270\u001b[0m     create_graph,\n\u001b[1;32m    271\u001b[0m     inputs,\n\u001b[1;32m    272\u001b[0m     allow_unreachable\u001b[39m=\u001b[39m\u001b[39mTrue\u001b[39;00m,\n\u001b[1;32m    273\u001b[0m     accumulate_grad\u001b[39m=\u001b[39m\u001b[39mTrue\u001b[39;00m,\n\u001b[1;32m    274\u001b[0m )\n",
      "\u001b[0;31mKeyboardInterrupt\u001b[0m: "
     ]
    }
   ],
   "source": [
    "loss_fn = nn.CrossEntropyLoss()\n",
    "optimizer = torch.optim.Adam(model.parameters(), lr=lr)\n",
    "\n",
    "eval_every = 3000\n",
    "checkpoint_every = 2000\n",
    "\n",
    "\n",
    "model.train()\n",
    "step = 0\n",
    "for epoch in range(num_epochs):  # Train for 5 epochs\n",
    "    total_loss = 0\n",
    "    # for i, batch in enumerate(tqdm(dataloader)):\n",
    "    for epoch_i, batch in tqdm(enumerate(train_loader)):\n",
    "        input_ids, label = batch\n",
    "        input_ids = input_ids.unsqueeze(dim=0).to(device)\n",
    "        label = label.to(device)\n",
    "        # print(longest_len)\n",
    "        optimizer.zero_grad()\n",
    "        print(f\"input shape: {input_ids.shape}\")\n",
    "        output = model(input_ids)\n",
    "        logits = output.logits[:, -1, :]\n",
    "\n",
    "        loss = loss_fn(logits, label)\n",
    "        loss.backward()\n",
    "        optimizer.step()\n",
    "\n",
    "        step += 1\n",
    "        # if step % eval_every == 0:\n",
    "        #     val_loss = eval()\n",
    "        #     wandb.log({\"validation loss: \", val_loss})\n",
    "        # if step % checkpoint_every == 0:\n",
    "        #     save_dir = f\"{MODEL_DIR}/model_{step}\"\n",
    "        #     torch.save({\n",
    "        #         'epoch': epoch, \n",
    "        #         'model_state_dict': equitune_model.state_dict(),\n",
    "        #         'optimizer_state_dict': optimizer.state_dict(),\n",
    "        #         'loss': loss\n",
    "            # }, save_dir)\n",
    "        total_loss += loss.item()\n",
    "        print(f'loss: {loss}')\n",
    "        # wandb.log({\"loss\": loss.item()})"
   ]
  },
  {
   "cell_type": "code",
   "execution_count": null,
   "metadata": {},
   "outputs": [],
   "source": [
    "del model "
   ]
  },
  {
   "cell_type": "code",
   "execution_count": null,
   "metadata": {},
   "outputs": [],
   "source": []
  }
 ],
 "metadata": {
  "kernelspec": {
   "display_name": "Python 3.11.8 ('backpack')",
   "language": "python",
   "name": "python3"
  },
  "language_info": {
   "codemirror_mode": {
    "name": "ipython",
    "version": 3
   },
   "file_extension": ".py",
   "mimetype": "text/x-python",
   "name": "python",
   "nbconvert_exporter": "python",
   "pygments_lexer": "ipython3",
   "version": "3.11.8"
  },
  "orig_nbformat": 4,
  "vscode": {
   "interpreter": {
    "hash": "e552d307c8781d98a1345404e47beeec67d0c4ac0bb536f85b4d3cc6c64bd723"
   }
  }
 },
 "nbformat": 4,
 "nbformat_minor": 2
}
